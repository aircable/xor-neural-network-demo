{
 "cells": [
  {
   "cell_type": "markdown",
   "id": "89be3437",
   "metadata": {},
   "source": [
    "XOR Problem: Traditional vs. Neural Network Solutions"
   ]
  },
  {
   "cell_type": "markdown",
   "id": "71519a8c",
   "metadata": {},
   "source": [
    "# Introduction\n",
    "This notebook demonstrates solving the XOR problem using two approaches:\n",
    "1. A traditional algorithmic approach\n",
    "2. A neural network implementation\n",
    "We aim to highlight the differences in methodology and the opportunities neural networks provide."
   ]
  },
  {
   "cell_type": "code",
   "execution_count": null,
   "id": "1d521d7b",
   "metadata": {},
   "outputs": [],
   "source": [
    "# Importing Libraries\n",
    "import numpy as np\n",
    "import matplotlib.pyplot as plt"
   ]
  },
  {
   "cell_type": "code",
   "execution_count": null,
   "id": "dac67334",
   "metadata": {},
   "outputs": [],
   "source": [
    "# Create a graphic to illustrate the XOR gate\n",
    "xor_inputs = np.array([[0, 0], [0, 1], [1, 0], [1, 1]])\n",
    "xor_outputs = np.array([0, 1, 1, 0])"
   ]
  },
  {
   "cell_type": "code",
   "execution_count": null,
   "id": "3a3536f2",
   "metadata": {},
   "outputs": [],
   "source": [
    "# Visualize XOR gate logic\n",
    "plt.figure(figsize=(6, 4))\n",
    "for i, input_pair in enumerate(xor_inputs):\n",
    "    plt.scatter(input_pair[0], input_pair[1], c='red' if xor_outputs[i] == 0 else 'blue', s=100, label=f\"Output: {xor_outputs[i]}\" if i < 2 else \"\")\n",
    "plt.axhline(0.5, color='gray', linestyle='--')\n",
    "plt.axvline(0.5, color='gray', linestyle='--')\n",
    "plt.title(\"XOR Gate Visualization\")\n",
    "plt.xlabel(\"Input 1\")\n",
    "plt.ylabel(\"Input 2\")\n",
    "plt.legend()\n",
    "plt.show()"
   ]
  },
  {
   "cell_type": "code",
   "execution_count": null,
   "id": "b3d8098f",
   "metadata": {
    "lines_to_next_cell": 1
   },
   "outputs": [],
   "source": [
    "## Traditional Algorithmic Example\n",
    "# Define a traditional algorithm for solving XOR\n",
    "print(\"Algorithmic Solution for XOR\")\n",
    "def xor_algorithm(x, y):\n",
    "    return x ^ y  # XOR operation"
   ]
  },
  {
   "cell_type": "code",
   "execution_count": null,
   "id": "b9fa1cf4",
   "metadata": {},
   "outputs": [],
   "source": [
    "for pair in xor_inputs:\n",
    "    print(f\"Inputs: {pair[0]}, {pair[1]} -> Output: {xor_algorithm(pair[0], pair[1])}\")"
   ]
  },
  {
   "cell_type": "code",
   "execution_count": null,
   "id": "3fcf8e6a",
   "metadata": {
    "lines_to_next_cell": 1
   },
   "outputs": [],
   "source": [
    "## Machine Learning Approach: Neural Network\n",
    "print(\"\\nNeural Network Implementation\")"
   ]
  },
  {
   "cell_type": "code",
   "execution_count": null,
   "id": "4ab6f593",
   "metadata": {
    "lines_to_next_cell": 1
   },
   "outputs": [],
   "source": [
    "# Define the Neural Network Class\n",
    "class NeuralNetwork:\n",
    "    def __init__(self, input_size, hidden_size, output_size, learning_rate=0.1):\n",
    "        self.input_size = input_size\n",
    "        self.hidden_size = hidden_size\n",
    "        self.output_size = output_size\n",
    "        self.learning_rate = learning_rate\n",
    "\n",
    "        # Initialize weights and biases\n",
    "        self.weights_input_hidden = np.random.randn(input_size, hidden_size)\n",
    "        self.bias_hidden = np.random.randn(hidden_size)\n",
    "        self.weights_hidden_output = np.random.randn(hidden_size, output_size)\n",
    "        self.bias_output = np.random.randn(output_size)\n",
    "\n",
    "    def sigmoid(self, x):\n",
    "        return 1 / (1 + np.exp(-x))\n",
    "\n",
    "    def sigmoid_derivative(self, x):\n",
    "        return x * (1 - x)\n",
    "\n",
    "    def train(self, input_data, target):\n",
    "        # Forward pass\n",
    "        input_data = np.array(input_data)\n",
    "        target = np.array(target)\n",
    "        hidden_input = np.dot(input_data, self.weights_input_hidden) + self.bias_hidden\n",
    "        hidden_output = self.sigmoid(hidden_input)\n",
    "        final_input = np.dot(hidden_output, self.weights_hidden_output) + self.bias_output\n",
    "        final_output = self.sigmoid(final_input)\n",
    "\n",
    "        # Error calculation\n",
    "        error = target - final_output\n",
    "\n",
    "        # Backward pass\n",
    "        output_gradient = error * self.sigmoid_derivative(final_output)\n",
    "        hidden_error = np.dot(output_gradient, self.weights_hidden_output.T)\n",
    "        hidden_gradient = hidden_error * self.sigmoid_derivative(hidden_output)\n",
    "\n",
    "        # Update weights and biases\n",
    "        self.weights_hidden_output += self.learning_rate * np.dot(hidden_output.reshape(-1, 1), output_gradient.reshape(1, -1))\n",
    "        self.bias_output += self.learning_rate * output_gradient\n",
    "        self.weights_input_hidden += self.learning_rate * np.dot(input_data.reshape(-1, 1), hidden_gradient.reshape(1, -1))\n",
    "        self.bias_hidden += self.learning_rate * hidden_gradient\n",
    "\n",
    "    def predict(self, input_data):\n",
    "        # Forward pass\n",
    "        input_data = np.array(input_data)\n",
    "        hidden_input = np.dot(input_data, self.weights_input_hidden) + self.bias_hidden\n",
    "        hidden_output = self.sigmoid(hidden_input)\n",
    "        final_input = np.dot(hidden_output, self.weights_hidden_output) + self.bias_output\n",
    "        final_output = self.sigmoid(final_input)\n",
    "        return final_output"
   ]
  },
  {
   "cell_type": "code",
   "execution_count": null,
   "id": "01c6f956",
   "metadata": {},
   "outputs": [],
   "source": [
    "# XOR Training Data\n",
    "inputs = [[0, 0], [0, 1], [1, 0], [1, 1]]\n",
    "outputs = [0, 1, 1, 0]"
   ]
  },
  {
   "cell_type": "code",
   "execution_count": null,
   "id": "576e249d",
   "metadata": {},
   "outputs": [],
   "source": [
    "# Initialize and Train the Neural Network\n",
    "model = NeuralNetwork(input_size=2, hidden_size=2, output_size=1)\n",
    "for epoch in range(10000):\n",
    "    for x, y in zip(inputs, outputs):\n",
    "        model.train(x, y)"
   ]
  },
  {
   "cell_type": "code",
   "execution_count": null,
   "id": "76f3f012",
   "metadata": {},
   "outputs": [],
   "source": [
    "# Predictions\n",
    "predictions = [model.predict(x) for x in inputs]\n",
    "print(\"\\nNeural Network Predictions:\")\n",
    "for i, pred in enumerate(predictions):\n",
    "    print(f\"Inputs: {inputs[i]} -> Prediction: {pred[0]:.4f} -> Rounded: {round(pred[0])}\")"
   ]
  },
  {
   "cell_type": "code",
   "execution_count": null,
   "id": "e4670b2e",
   "metadata": {
    "lines_to_next_cell": 1
   },
   "outputs": [],
   "source": [
    "## Visualizing the Neural Network\n",
    "from matplotlib.patches import FancyArrow\n",
    "import networkx as nx"
   ]
  },
  {
   "cell_type": "code",
   "execution_count": null,
   "id": "f7043073",
   "metadata": {
    "lines_to_next_cell": 1
   },
   "outputs": [],
   "source": [
    "# Build the Neural Network Graph\n",
    "def visualize_nn(weights_input_hidden, weights_hidden_output, bias_hidden, bias_output):\n",
    "    G = nx.DiGraph()\n",
    "\n",
    "    # Add Nodes\n",
    "    G.add_nodes_from([\"Input 1\", \"Input 2\"], layer=0)\n",
    "    G.add_nodes_from([\"Hidden 1\", \"Hidden 2\"], layer=1)\n",
    "    G.add_nodes_from([\"Output\"], layer=2)\n",
    "\n",
    "    # Add Edges with Weights\n",
    "    for i, inp in enumerate([\"Input 1\", \"Input 2\"]):\n",
    "        for h, hid in enumerate([\"Hidden 1\", \"Hidden 2\"]):\n",
    "            G.add_edge(inp, hid, weight=weights_input_hidden[i, h])\n",
    "    for h, hid in enumerate([\"Hidden 1\", \"Hidden 2\"]):\n",
    "        G.add_edge(hid, \"Output\", weight=weights_hidden_output[h, 0])\n",
    "\n",
    "    pos = nx.multipartite_layout(G, subset_key=\"layer\")\n",
    "    nx.draw(G, pos, with_labels=True, node_size=2000, node_color=\"skyblue\", edge_color=\"gray\")\n",
    "    labels = nx.get_edge_attributes(G, \"weight\")\n",
    "    nx.draw_networkx_edge_labels(G, pos, edge_labels=labels)\n",
    "    plt.title(\"Visualized Neural Network for XOR\")\n",
    "    plt.show()"
   ]
  },
  {
   "cell_type": "code",
   "execution_count": null,
   "id": "c29479d9",
   "metadata": {},
   "outputs": [],
   "source": [
    "visualize_nn(model.weights_input_hidden, model.weights_hidden_output, model.bias_hidden, model.bias_output)"
   ]
  },
  {
   "cell_type": "markdown",
   "id": "ac6d6f36",
   "metadata": {},
   "source": [
    "# Summary\n",
    "- The traditional algorithm uses explicit rules, limited to specific problems.\n",
    "- Neural networks learn patterns and generalize, opening opportunities for diverse and complex tasks."
   ]
  },
  {
   "cell_type": "code",
   "execution_count": null,
   "id": "66969a1d",
   "metadata": {},
   "outputs": [],
   "source": []
  }
 ],
 "metadata": {
  "jupytext": {
   "cell_metadata_filter": "-all",
   "main_language": "python",
   "notebook_metadata_filter": "-all"
  }
 },
 "nbformat": 4,
 "nbformat_minor": 5
}
