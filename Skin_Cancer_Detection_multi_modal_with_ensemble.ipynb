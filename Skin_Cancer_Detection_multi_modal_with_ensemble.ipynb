{
  "metadata": {
    "kernelspec": {
      "display_name": "Python 3",
      "name": "python3"
    },
    "language_info": {
      "name": "python",
      "version": "3.10.12",
      "mimetype": "text/x-python",
      "codemirror_mode": {
        "name": "ipython",
        "version": 3
      },
      "pygments_lexer": "ipython3",
      "nbconvert_exporter": "python",
      "file_extension": ".py"
    },
    "kaggle": {
      "accelerator": "nvidiaTeslaT4",
      "dataSources": [
        {
          "sourceId": 505351,
          "sourceType": "datasetVersion",
          "datasetId": 174469
        },
        {
          "sourceId": 7649273,
          "sourceType": "datasetVersion",
          "datasetId": 4459076
        }
      ],
      "dockerImageVersionId": 30636,
      "isInternetEnabled": true,
      "language": "python",
      "sourceType": "notebook",
      "isGpuEnabled": true
    },
    "colab": {
      "name": "Skin Cancer Detection multi-modal with ensemble ",
      "provenance": [],
      "gpuType": "T4",
      "include_colab_link": true
    },
    "accelerator": "GPU"
  },
  "nbformat_minor": 0,
  "nbformat": 4,
  "cells": [
    {
      "cell_type": "markdown",
      "metadata": {
        "id": "view-in-github",
        "colab_type": "text"
      },
      "source": [
        "<a href=\"https://colab.research.google.com/github/aircable/xor-neural-network-demo/blob/main/Skin_Cancer_Detection_multi_modal_with_ensemble.ipynb\" target=\"_parent\"><img src=\"https://colab.research.google.com/assets/colab-badge.svg\" alt=\"Open In Colab\"/></a>"
      ]
    },
    {
      "cell_type": "markdown",
      "metadata": {
        "id": "new-markdown-cell-1"
      },
      "source": [
        "## Step 1: Setting Up the Environment and Importing Data Sources\n",
        "\n",
        "This Jupyter Notebook is designed for a skin cancer detection task and utilizes image datasets sourced from Kaggle, a popular platform for data science competitions and datasets.\n",
        "\n",
        "To begin, we need to import the necessary data. The code cell below uses the `kagglehub.dataset_download` function. This function is part of the Kaggle API tools and serves a crucial purpose:\n",
        "*   **`kagglehub.dataset_download`**: It connects to Kaggle, downloads the specified datasets, and makes them available within the notebook's environment for analysis and model training.\n",
        "\n",
        "The datasets being imported are:\n",
        "1.  **`fanconic/skin-cancer-malignant-vs-benign`**: This dataset likely contains images of skin lesions classified as either malignant (cancerous) or benign (non-cancerous).\n",
        "2.  **`bhaveshmittal/melanoma-cancer-dataset`**: This dataset is focused on melanoma, a specific and dangerous type of skin cancer, providing more images for training our detection model.\n",
        "\n",
        "Running the following code cell will ensure these datasets are ready for use in the subsequent steps of the notebook."
      ]
    },
    {
      "source": [
        "## Step 1: Setting Up the Environment and Importing Data Sources\n",
        "\n",
        "# NOTE: THIS NOTEBOOK ENVIRONMENT DIFFERS FROM KAGGLE'S PYTHON\n",
        "# ENVIRONMENT SO THERE MAY BE MISSING LIBRARIES USED BY YOUR\n",
        "# NOTEBOOK.\n",
        "import kagglehub\n",
        "fanconic_skin_cancer_malignant_vs_benign_path = kagglehub.dataset_download('fanconic/skin-cancer-malignant-vs-benign')\n",
        "bhaveshmittal_melanoma_cancer_dataset_path = kagglehub.dataset_download('bhaveshmittal/melanoma-cancer-dataset')\n",
        "\n",
        "print('Data source import complete.')\n"
      ],
      "metadata": {
        "id": "vLZIY7y22OgS",
        "outputId": "f030613f-588a-4a3c-82f8-a04fdd2e6210",
        "colab": {
          "base_uri": "https://localhost:8080/"
        }
      },
      "cell_type": "code",
      "outputs": [
        {
          "output_type": "stream",
          "name": "stdout",
          "text": [
            "Data source import complete.\n"
          ]
        }
      ],
      "execution_count": null
    },
    {
      "cell_type": "markdown",
      "metadata": {
        "id": "new-markdown-cell-2"
      },
      "source": [
        "### 1.1 Importing Essential Libraries - The AI/ML Toolkit\n",
        "\n",
        "Before we can start building our skin cancer detection model, we need to equip ourselves with the right tools. The following code cell imports several key Python libraries that are fundamental for any Artificial Intelligence (AI) and Machine Learning (ML) project, especially those involving image data and deep learning:\n",
        "\n",
        "*   **NumPy (`np`)**: The cornerstone for numerical computing in Python. NumPy provides powerful tools for handling arrays and matrices, which are essential for representing and manipulating data like image pixels and model parameters.\n",
        "\n",
        "*   **PyTorch (`torch`, `torch.nn`, `torch.optim`, `torchvision`)**: This is a leading deep learning framework.\n",
        "    *   `torch`: The main PyTorch library, providing tensor computation (similar to NumPy arrays but with GPU acceleration) and core functionalities.\n",
        "    *   `torch.nn`: A module for building neural networks. It offers pre-defined layers, loss functions, and other building blocks.\n",
        "    *   `torch.optim`: Contains optimization algorithms like Adam or SGD, which are used to update model parameters during training.\n",
        "    *   `torchvision`: Part of PyTorch, specifically for computer vision tasks. It includes tools for loading and transforming image datasets, as well as pre-trained models.\n",
        "\n",
        "*   **Scikit-learn (`sklearn.metrics`)**: A versatile machine learning library. Here, we're specifically importing `metrics` to evaluate our model's performance. This includes calculating:\n",
        "    *   Accuracy: The proportion of correctly classified images.\n",
        "    *   Precision: The ability of the model not to label a benign case as malignant.\n",
        "    *   Recall (Sensitivity): The ability of the model to find all malignant cases.\n",
        "    *   F1-score: A weighted average of precision and recall.\n",
        "    *   Confusion Matrix: A table showing the actual vs. predicted classifications, helping to visualize errors.\n",
        "\n",
        "*   **Matplotlib & Seaborn**: These are popular libraries for data visualization.\n",
        "    *   `matplotlib.pyplot (plt)`: A fundamental plotting library, allowing us to create graphs of training progress, loss curves, etc.\n",
        "    *   `seaborn (sns)`: Built on top of Matplotlib, Seaborn provides more statistically sophisticated and aesthetically pleasing visualizations, such as heatmaps for confusion matrices.\n",
        "\n",
        "Finally, `from warnings import filterwarnings` and `filterwarnings('ignore')` is a utility to suppress warning messages. While warnings can be useful, sometimes they can clutter the output with less critical information. This line helps in keeping the notebook's output cleaner."
      ]
    },
    {
      "cell_type": "markdown",
      "metadata": {
        "id": "new-markdown-cell-8"
      },
      "source": [
        "### 3.2 Building a Custom Convolutional Neural Network (CNN) from Scratch\n",
        "\n",
        "In addition to using pre-trained models, we are also defining a `CustomCNN` from scratch. This allows for more control over the architecture and can be a good learning exercise. It might also be useful if pre-trained models are too complex or if we want to experiment with novel architectures tailored to our specific dataset.\n",
        "\n",
        "This custom CNN uses several standard neural network layers provided by PyTorch's `nn` module:\n",
        "\n",
        "*   **`nn.Conv2d(in_channels, out_channels, kernel_size, padding)`**: These are 2D convolutional layers, the core of CNNs for image processing.\n",
        "    *   `in_channels`: Number of channels in the input image (e.g., 3 for RGB).\n",
        "    *   `out_channels`: Number of filters the layer learns. Each filter detects different features.\n",
        "    *   `kernel_size`: Size of the convolutional filter (e.g., 3x3 or 5x5 pixels).\n",
        "    *   `padding`: Adds pixels to the image border, which can help preserve spatial dimensions after convolution.\n",
        "    *   *Role*: They extract features like edges, textures, and more complex patterns by sliding filters over the input image.\n",
        "\n",
        "*   **`nn.BatchNorm2d(num_features)`**: Batch Normalization layer.\n",
        "    *   *Role*: Normalizes the activations of the previous layer across the current batch. This helps in stabilizing the learning process, speeding up training, and can sometimes act as a regularizer.\n",
        "\n",
        "*   **`nn.MaxPool2d(kernel_size)`**: Max Pooling layer.\n",
        "    *   *Role*: Reduces the spatial dimensions (height and width) of the feature maps. It takes the maximum value from a window (defined by `kernel_size`) in the feature map, thus retaining the most activated features while reducing computational load and providing a degree of translation invariance.\n",
        "\n",
        "*   **`nn.Linear(in_features, out_features)`**: A fully connected (or dense) layer.\n",
        "    *   *Role*: These layers perform classification based on the high-level features extracted by the convolutional layers. Each neuron in a linear layer is connected to every neuron in the previous layer.\n",
        "\n",
        "*   **`nn.Dropout(p)`**: Dropout layer.\n",
        "    *   *Role*: A regularization technique to prevent overfitting. During training, it randomly sets a fraction `p` of input units to 0 at each update. This forces the network to learn more robust features that are not overly reliant on any single neuron.\n",
        "\n",
        "*   **`F.leaky_relu` (or `nn.LeakyReLU`)**: Leaky Rectified Linear Unit activation function.\n",
        "    *   *Role*: Activation functions introduce non-linearity into the model, allowing it to learn more complex patterns. ReLU sets all negative values to zero, while Leaky ReLU allows a small, non-zero gradient for negative inputs, which can help mitigate the \"dying ReLU\" problem where neurons can become inactive.\n",
        "\n",
        "**Structure of `CustomCNN`:**\n",
        "The `CustomCNN` defined below consists of a sequence of these layers:\n",
        "1.  Multiple blocks of: Convolutional Layer -> Batch Normalization -> Leaky ReLU Activation -> Max Pooling.\n",
        "2.  These are followed by a flattening operation to convert the 2D feature maps into a 1D vector.\n",
        "3.  Finally, one or more Fully Connected (Linear) layers, with Leaky ReLU activation and Dropout, perform the final classification.\n",
        "\n",
        "The `_init_fc_layers` method is a clever way to dynamically determine the input size for the first fully connected layer based on the output shape of the convolutional/pooling layers, making the network more flexible to changes in input image size or convolutional architecture."
      ]
    },
    {
      "cell_type": "code",
      "source": [
        "### 1.1 Importing Essential Libraries - The AI/ML Toolkit\n",
        "\n",
        "import numpy as np\n",
        "\n",
        "# PyTorch\n",
        "import torch\n",
        "import torch.nn as nn\n",
        "import torch.optim as optim\n",
        "from torchvision import models, datasets, transforms\n",
        "from torch.utils.data import DataLoader, random_split\n",
        "from torch.cuda.amp import autocast, GradScaler\n",
        "from torch.optim.lr_scheduler import ReduceLROnPlateau\n",
        "from tensorflow.keras.applications import VGG16, ResNet50\n",
        "import torch.nn.functional as F\n",
        "from sklearn.metrics import accuracy_score, precision_score, recall_score, f1_score\n",
        "\n",
        "\n",
        "\n",
        "# Visualization\n",
        "import matplotlib.pyplot as plt\n",
        "import seaborn as sns\n",
        "\n",
        "# Metrics\n",
        "from sklearn.metrics import confusion_matrix\n",
        "\n",
        "# Suppressing warnings\n",
        "from warnings import filterwarnings\n",
        "filterwarnings('ignore')"
      ],
      "metadata": {
        "_uuid": "8f38c0b4-48bc-4686-9a58-71aa20ff4313",
        "_cell_guid": "e1b71b20-d19c-4aa8-9c70-bf2de5130ae7",
        "jupyter": {
          "outputs_hidden": false
        },
        "execution": {
          "iopub.status.busy": "2025-04-26T10:32:26.422452Z",
          "iopub.execute_input": "2025-04-26T10:32:26.422775Z",
          "iopub.status.idle": "2025-04-26T10:32:26.428636Z",
          "shell.execute_reply.started": "2025-04-26T10:32:26.422752Z",
          "shell.execute_reply": "2025-04-26T10:32:26.427634Z"
        },
        "trusted": true,
        "id": "8K87hgxA2OgV"
      },
      "outputs": [],
      "execution_count": null
    },
    {
      "cell_type": "markdown",
      "source": [
        "### 1.2 Checking for GPU Acceleration - Speeding Up Training"
      ],
      "metadata": {
        "id": "OkG0fSHa2OgW"
      }
    },
    {
      "cell_type": "markdown",
      "metadata": {
        "id": "new-markdown-cell-3"
      },
      "source": [
        "Deep learning models, especially those for image analysis, involve a massive number of calculations. Training these models can be very time-consuming on a standard Central Processing Unit (CPU).\n",
        "\n",
        "Graphics Processing Units (GPUs) are specialized hardware designed for parallel processing, making them significantly faster for the types of computations required in deep learning. Using a GPU can reduce training time from days to hours, or hours to minutes.\n",
        "\n",
        "The code cell below checks if a CUDA-enabled GPU is available to PyTorch:\n",
        "*   **`torch.cuda.is_available()`**: This PyTorch function returns `True` if a compatible NVIDIA GPU (with CUDA support) is detected and properly configured, and `False` otherwise.\n",
        "\n",
        "Based on this check, the code sets a variable named `device`:\n",
        "*   If a GPU is available (`torch.cuda.is_available()` is `True`), `device` is set to `'cuda'`.\n",
        "*   Otherwise (no GPU or incompatible GPU), `device` defaults to `'cpu'`.\n",
        "\n",
        "This `device` variable will then be used throughout the notebook to ensure that our data and models are processed on the appropriate hardware (GPU if available, for speed, or CPU if not).\n",
        "\n",
        "The output of the code cell will print which device (`cuda` or `cpu`) is being used for this session."
      ]
    },
    {
      "cell_type": "code",
      "source": [
        "device = torch.device('cuda' if torch.cuda.is_available() else 'cpu')\n",
        "print(f'Using device : {device}')"
      ],
      "metadata": {
        "execution": {
          "iopub.status.busy": "2025-04-26T10:32:26.431663Z",
          "iopub.execute_input": "2025-04-26T10:32:26.431937Z",
          "iopub.status.idle": "2025-04-26T10:32:26.441449Z",
          "shell.execute_reply.started": "2025-04-26T10:32:26.431916Z",
          "shell.execute_reply": "2025-04-26T10:32:26.440475Z"
        },
        "trusted": true,
        "id": "aKC0iMzo2OgX",
        "outputId": "3cfe5609-90a7-412f-d4df-a54a18a4fd6e",
        "colab": {
          "base_uri": "https://localhost:8080/"
        }
      },
      "outputs": [
        {
          "output_type": "stream",
          "name": "stdout",
          "text": [
            "Using device : cuda\n"
          ]
        }
      ],
      "execution_count": null
    },
    {
      "cell_type": "markdown",
      "source": [
        "## Step 2: Preparing the Image Data - Augmentation and Transformation"
      ],
      "metadata": {
        "id": "WncrDD0q2OgY"
      }
    },
    {
      "cell_type": "markdown",
      "metadata": {
        "id": "new-markdown-cell-4"
      },
      "source": [
        "**Data Augmentation** is a technique used to artificially increase the size of a training dataset by creating modified versions of its existing images. This is crucial in deep learning for several reasons:\n",
        "*   **Increases Dataset Size**: More data generally leads to better model performance and generalization.\n",
        "*   **Enhances Model Robustness**: By exposing the model to a wider variety of image variations (rotations, flips, etc.), it becomes less sensitive to these changes in real-world images and can perform better.\n",
        "*   **Prevents Overfitting**: Overfitting occurs when a model learns the training data too well, including its noise, and performs poorly on unseen data. Augmentation helps the model learn more general features.\n",
        "\n",
        "We use `torchvision.transforms.Compose` to create a pipeline of image transformations. This function allows us to chain multiple transformation operations together. The transformations defined in the `transformer` variable below are applied to the **training data**:\n",
        "\n",
        "*   **`transforms.RandomRotation(degrees=20)`**: Randomly rotates the images by an angle between -20 and +20 degrees. This helps the model become invariant to the orientation of objects.\n",
        "*   **`transforms.RandomHorizontalFlip(p=0.3)`**: Randomly flips the images horizontally with a probability of 0.3 (30% of the time). This is useful if the left-right orientation doesn't change the meaning of the image (e.g., a skin lesion is still a lesion if flipped).\n",
        "*   **`transforms.RandomVerticalFlip(p=0.3)`**: Similarly, randomly flips the images vertically with a 30% probability.\n",
        "*   **`transforms.Resize(size=(imgSize, imgSize), antialias=True)`**: Resizes the input image to a fixed square size, defined by `imgSize`. `antialias=True` helps in smoother resizing.\n",
        "*   **`transforms.CenterCrop(size=(imgSize, imgSize))`**: Crops the image from the center to ensure it's exactly `imgSize` x `imgSize`. This is often done after resizing to ensure the dimensions are precise.\n",
        "*   **`transforms.ToTensor()`**: Converts the image (which is usually in PIL Image format or a NumPy array) into a PyTorch tensor. Tensors are the fundamental data structure used in PyTorch for computations. This step also typically scales pixel values from a 0-255 range to a 0.0-1.0 range.\n",
        "*   **`transforms.Normalize(mean=[0.485, 0.456, 0.406], std=[0.229, 0.224, 0.225])`**: Normalizes the tensor image by subtracting the `mean` and dividing by the `standard deviation` for each color channel (Red, Green, Blue). These specific mean and standard deviation values are commonly used as they are derived from the ImageNet dataset, a large benchmark dataset. Normalization helps the model converge faster during training by ensuring that the input features have a similar range of values.\n",
        "\n",
        "The `valTransformer` is defined for the **validation data**. It typically includes fewer augmentations. We want to evaluate the model on data that is as close as possible to what it might see in a real-world scenario, without random alterations. Therefore, it usually only includes necessary transformations like resizing, center cropping, conversion to a tensor, and normalization to ensure consistency with the training data's preprocessing."
      ]
    },
    {
      "cell_type": "code",
      "source": [
        "\n",
        "imgSize = 112\n",
        "# Training transformer\n",
        "transformer = transforms.Compose([\n",
        "    transforms.RandomRotation(degrees = 20),\n",
        "\n",
        "    transforms.RandomHorizontalFlip(p = 0.3),\n",
        "    transforms.RandomVerticalFlip(p = 0.3),\n",
        "\n",
        "    transforms.Resize(size = (imgSize, imgSize), antialias = True),\n",
        "    transforms.CenterCrop(size = (imgSize, imgSize)),\n",
        "\n",
        "    transforms.ToTensor(),\n",
        "    transforms.Normalize(mean = [0.485, 0.456, 0.406], std = [0.229, 0.224, 0.225])\n",
        "])\n",
        "\n",
        "# Validation transformer\n",
        "valTransformer = transforms.Compose([\n",
        "    transforms.Resize(size = (imgSize, imgSize), antialias = True),\n",
        "    transforms.CenterCrop(size = (imgSize, imgSize)),\n",
        "\n",
        "    transforms.ToTensor(),\n",
        "    transforms.Normalize(mean = [0.485, 0.456, 0.406], std = [0.229, 0.224, 0.225])\n",
        "])"
      ],
      "metadata": {
        "execution": {
          "iopub.status.busy": "2025-04-26T10:32:26.442868Z",
          "iopub.execute_input": "2025-04-26T10:32:26.443599Z",
          "iopub.status.idle": "2025-04-26T10:32:26.454016Z",
          "shell.execute_reply.started": "2025-04-26T10:32:26.443567Z",
          "shell.execute_reply": "2025-04-26T10:32:26.453018Z"
        },
        "trusted": true,
        "id": "UbxeJ19i2OgZ"
      },
      "outputs": [],
      "execution_count": null
    },
    {
      "cell_type": "markdown",
      "source": [
        "### 2.1 Loading Image Datasets from Folders"
      ],
      "metadata": {
        "id": "fAtCSSzg2Oga"
      }
    },
    {
      "cell_type": "markdown",
      "metadata": {
        "id": "new-markdown-cell-5"
      },
      "source": [
        "With our augmentation and transformation pipelines (`transformer` for training, `valTransformer` for validation) defined, we can now load the image datasets.\n",
        "\n",
        "PyTorch's `torchvision.datasets.ImageFolder` is a convenient utility for loading image data when it's organized in a specific way:\n",
        "*   **`datasets.ImageFolder(root, transform)`**: This function expects the data to be in a root directory (`root`) where each subfolder's name corresponds to a class label. For example, if our `root` path is `/kaggle/input/melanoma-cancer-dataset/train`, `ImageFolder` will look for subfolders like `/kaggle/input/melanoma-cancer-dataset/train/benign` and `/kaggle/input/melanoma-cancer-dataset/train/malignant`. It will automatically label all images in the 'benign' folder as 'benign' and those in 'malignant' as 'malignant'.\n",
        "\n",
        "The `transform` argument is crucial:\n",
        "*   For `trainData`, we pass `transformer`. This means every image loaded from the training path will undergo the random augmentations and normalization steps we defined earlier.\n",
        "*   For `valData` (validation data), we pass `valTransformer`. This applies the more limited set of transformations (resize, crop, ToTensor, Normalize) to the validation images, ensuring a consistent evaluation.\n",
        "\n",
        "The code cell below sets the `path` for training data and `valPath` for validation/test data and then uses `ImageFolder` to create dataset objects."
      ]
    },
    {
      "cell_type": "code",
      "source": [
        "path = '/kaggle/input/melanoma-cancer-dataset/train'\n",
        "valPath = '/kaggle/input/melanoma-cancer-dataset/test'\n",
        "\n",
        "trainData = datasets.ImageFolder(root = path, transform = transformer)\n",
        "valData = datasets.ImageFolder(root = valPath, transform = valTransformer)"
      ],
      "metadata": {
        "execution": {
          "iopub.status.busy": "2025-04-26T10:32:26.455201Z",
          "iopub.execute_input": "2025-04-26T10:32:26.455523Z",
          "iopub.status.idle": "2025-04-26T10:32:31.360015Z",
          "shell.execute_reply.started": "2025-04-26T10:32:26.45549Z",
          "shell.execute_reply": "2025-04-26T10:32:31.359335Z"
        },
        "trusted": true,
        "id": "xBo0MPdG2Ogb"
      },
      "outputs": [],
      "execution_count": null
    },
    {
      "cell_type": "markdown",
      "metadata": {
        "id": "new-markdown-cell-6"
      },
      "source": [
        "### 2.2 Creating DataLoaders - Efficiently Feeding Data to the Model\n",
        "\n",
        "Once we have our datasets (`trainData` and `valData`), we need an efficient way to feed these images to our neural network during training and validation. This is where `torch.utils.data.DataLoader` comes in.\n",
        "\n",
        "A `DataLoader` is a PyTorch utility that takes a Dataset object (like the ones we created with `ImageFolder`) and provides an iterable over it. It offers several important functionalities for training deep learning models:\n",
        "\n",
        "*   **Batching**: Instead of processing images one by one, a `DataLoader` groups them into batches. This is more computationally efficient, especially when using GPUs, as it allows for parallel processing of multiple samples at once. The `batch_size` parameter determines how many images are in each batch.\n",
        "    *   A larger batch size can lead to faster training per epoch but requires more memory. It can also sometimes lead to a more stable gradient estimate, but too large can sometimes hinder generalization.\n",
        "*   **Shuffling**: For the training data (`trainLoader`), it's crucial to shuffle the images at the beginning of each epoch (`shuffle=True`). This ensures that the model doesn't learn any unintended patterns based on the order of images in the dataset and helps in better generalization.\n",
        "    *   For the validation data (`valLoader`), shuffling is typically not necessary (`shuffle=False`) because we want a consistent evaluation of the model's performance on the same sequence of validation images epoch after epoch.\n",
        "*   **Parallel Loading (`num_workers`)**: `DataLoader` can use multiple subprocesses (workers) to load data in parallel from the disk to the memory (and then to the GPU). This can significantly speed up training by preventing the GPU from waiting for data to be loaded by the CPU. `num_workers = 4` means four subprocesses will be used for data loading.\n",
        "\n",
        "The code cell below defines `trainLoader` for our training data and `valLoader` for our validation data, configured with appropriate batch sizes and shuffling options."
      ]
    },
    {
      "cell_type": "code",
      "source": [
        "### 2.2 Creating DataLoaders - Efficiently Feeding Data to the Model\n",
        "batchSize = 256\n",
        "\n",
        "trainLoader = DataLoader(trainData, batch_size = batchSize, shuffle = True, num_workers = 4)\n",
        "valLoader = DataLoader(valData, batch_size = batchSize, shuffle = False, num_workers = 4)"
      ],
      "metadata": {
        "execution": {
          "iopub.status.busy": "2025-04-26T10:32:31.361754Z",
          "iopub.execute_input": "2025-04-26T10:32:31.362016Z",
          "iopub.status.idle": "2025-04-26T10:32:31.367191Z",
          "shell.execute_reply.started": "2025-04-26T10:32:31.361994Z",
          "shell.execute_reply": "2025-04-26T10:32:31.36639Z"
        },
        "trusted": true,
        "id": "g5yMfQCs2Ogc"
      },
      "outputs": [],
      "execution_count": null
    },
    {
      "cell_type": "markdown",
      "source": [
        "## Step 3: Defining the Neural Network Architectures - Our Brains for Image Classification"
      ],
      "metadata": {
        "id": "dgCOOEm32Oge"
      }
    },
    {
      "cell_type": "markdown",
      "metadata": {
        "id": "new-markdown-cell-7"
      },
      "source": [
        "### 3.1 Leveraging Pre-trained Models: VGG16 and ResNet50 (Transfer Learning)\n",
        "\n",
        "Instead of building our image classification models entirely from scratch, which would require a very large dataset and extensive training time, we can leverage **pre-trained models**. These are sophisticated neural network architectures that have already been trained on massive image datasets, most commonly the ImageNet dataset (which contains millions of images across 1000 categories).\n",
        "\n",
        "The key idea here is **Transfer Learning**. We transfer the knowledge (the learned features like edges, textures, and complex patterns) from these pre-trained models to our specific task of skin cancer detection. This approach offers several advantages:\n",
        "*   **Reduced Training Time**: Since the model has already learned to extract general image features, we only need to fine-tune it for our specific dataset.\n",
        "*   **Better Performance with Smaller Datasets**: Pre-trained models provide a strong foundation, often leading to better results than training a model from scratch, especially when our own dataset is relatively small.\n",
        "*   **Effective Feature Extraction**: These models are known for their excellent ability to extract hierarchical features from images.\n",
        "\n",
        "In this notebook, we will use two popular and powerful Convolutional Neural Network (CNN) architectures:\n",
        "*   **VGG16**: Known for its simple and uniform architecture consisting of 16 layers with learnable weights (convolutional and fully connected layers).\n",
        "*   **ResNet50**: A 50-layer Residual Network that introduced \"skip connections\" to help train very deep networks more effectively by mitigating the vanishing gradient problem.\n",
        "\n",
        "**Loading Pre-trained Weights:**\n",
        "When we initialize these models using `models.vgg16(weights='DEFAULT')` and `models.resnet50(weights='DEFAULT')`, PyTorch automatically downloads and loads the weights that were learned from training on the ImageNet dataset. The `'DEFAULT'` (or sometimes `pretrained=True` in older versions) signifies that we want these pre-learned feature extraction capabilities.\n",
        "\n",
        "**Modifying the Final Classifier Layer:**\n",
        "Since VGG16 and ResNet50 were originally trained to classify images into 1000 ImageNet classes, their final layer (the classifier or fully connected layer) is designed for this 1000-class output. For our skin cancer detection task, we typically have a binary classification problem (e.g., 'benign' vs. 'malignant'). Therefore, we need to replace the original final layer with a new one suited to our task:\n",
        "\n",
        "*   For VGG16 (`model1`), the classifier is a sequence of layers. We replace the last layer (`model1.classifier[6]`) with a new `nn.Linear` layer. `model1.classifier[6].in_features` gives us the number of input features coming into the original last layer, and we change the output to `1` neuron. This single neuron's output will typically be passed through a sigmoid activation function later to produce a probability (e.g., probability of being malignant).\n",
        "\n",
        "*   For ResNet50 (`model2`), the final fully connected layer is typically named `fc`. We replace `model2.fc` with a new `nn.Linear` layer. `model2.fc.in_features` provides the number of input features from the preceding layer, and again, we set the output to `1` neuron for our binary classification.\n",
        "\n",
        "This modification allows us to use the powerful feature extraction learned from ImageNet while tailoring the classification part of the model to our specific skin cancer detection problem."
      ]
    },
    {
      "cell_type": "code",
      "source": [
        "# Using a pre-trained EfficientNetV2L model\n",
        "model1 = models.vgg16(weights = 'DEFAULT')\n",
        "\n",
        "# Modifying final classifier layer\n",
        "model1.classifier[6] = nn.Linear(model1.classifier[6].in_features, 1)\n",
        "\n",
        "model2= models.resnet50(weights='DEFAULT')\n",
        "in_features= model2.fc.in_features\n",
        "model2.fc= nn.Linear(in_features, 1)"
      ],
      "metadata": {
        "execution": {
          "iopub.status.busy": "2025-04-26T10:32:31.368159Z",
          "iopub.execute_input": "2025-04-26T10:32:31.368485Z",
          "iopub.status.idle": "2025-04-26T10:32:33.37781Z",
          "shell.execute_reply.started": "2025-04-26T10:32:31.368455Z",
          "shell.execute_reply": "2025-04-26T10:32:33.376835Z"
        },
        "trusted": true,
        "id": "HQzLG58m2Oge",
        "outputId": "192633b9-8b1b-401f-f874-bbc50e20f344",
        "colab": {
          "base_uri": "https://localhost:8080/"
        }
      },
      "outputs": [
        {
          "output_type": "stream",
          "name": "stderr",
          "text": [
            "Downloading: \"https://download.pytorch.org/models/vgg16-397923af.pth\" to /root/.cache/torch/hub/checkpoints/vgg16-397923af.pth\n",
            "100%|██████████| 528M/528M [00:08<00:00, 64.8MB/s]\n",
            "Downloading: \"https://download.pytorch.org/models/resnet50-11ad3fa6.pth\" to /root/.cache/torch/hub/checkpoints/resnet50-11ad3fa6.pth\n",
            "100%|██████████| 97.8M/97.8M [00:01<00:00, 87.5MB/s]\n"
          ]
        }
      ],
      "execution_count": null
    },
    {
      "cell_type": "code",
      "source": [
        "import torch\n",
        "import torch.nn as nn\n",
        "import torch.nn.functional as F\n",
        "\n",
        "class CustomCNN(nn.Module):\n",
        "    def __init__(self, input_channels=3):\n",
        "        super(CustomCNN, self).__init__()\n",
        "\n",
        "        # Convolutional layers - feature extraction part\n",
        "        self.conv1 = nn.Conv2d(input_channels, 32, kernel_size=3, padding=1) # 3 input channels (RGB), 32 output filters, 3x3 kernel, padding 1\n",
        "        self.bn1 = nn.BatchNorm2d(32) # Batch normalization for 32 features\n",
        "        self.pool1 = nn.MaxPool2d(2) # Max pooling with 2x2 window\n",
        "\n",
        "        self.conv2 = nn.Conv2d(32, 64, kernel_size=3, padding=1) # 32 input channels, 64 output filters, 3x3 kernel, padding 1\n",
        "        self.bn2 = nn.BatchNorm2d(64)\n",
        "        self.pool2 = nn.MaxPool2d(2)\n",
        "\n",
        "        self.conv3 = nn.Conv2d(64, 128, kernel_size=5, padding=1) # 64 input channels, 128 output filters, 5x5 kernel, padding 1\n",
        "        self.bn3 = nn.BatchNorm2d(128)\n",
        "        self.pool3 = nn.MaxPool2d(2)\n",
        "\n",
        "        self.conv4 = nn.Conv2d(128, 128, kernel_size=3, padding=1) # 128 input channels, 128 output filters, 3x3 kernel, padding 1\n",
        "        self.bn4 = nn.BatchNorm2d(128)\n",
        "        self.pool4 = nn.MaxPool2d(2)\n",
        "\n",
        "        self.conv5 = nn.Conv2d(128, 256, kernel_size=7, padding=1) # 128 input channels, 256 output filters, 7x7 kernel, padding 1\n",
        "        self.bn5 = nn.BatchNorm2d(256)\n",
        "        self.pool5 = nn.MaxPool2d(2)\n",
        "\n",
        "        self._init_fc_layers() # Initialize fully connected layers dynamically\n",
        "\n",
        "    # Forward pass through convolutional layers (feature extraction)\n",
        "    def _forward_conv(self, x):\n",
        "        x = self.pool1(F.leaky_relu(self.bn1(self.conv1(x))))\n",
        "        x = self.pool2(F.leaky_relu(self.bn2(self.conv2(x))))\n",
        "        x = self.pool3(F.leaky_relu(self.bn3(self.conv3(x))))\n",
        "        x = self.pool4(F.leaky_relu(self.bn4(self.conv4(x))))\n",
        "        x = self.pool5(F.leaky_relu(self.bn5(self.conv5(x))))\n",
        "\n",
        "        return x\n",
        "\n",
        "    # Dynamically initialize fully connected layers based on conv output shape\n",
        "    def _init_fc_layers(self):\n",
        "        with torch.no_grad(): # No need to track gradients here\n",
        "            # Create a dummy input tensor (batch size 1, 3 channels, 112x112 image)\n",
        "            dummy = torch.zeros(1, 3, 112, 112)\n",
        "            # Pass the dummy tensor through the convolutional layers\n",
        "            dummy = self._forward_conv(dummy)\n",
        "            # Flatten the output of conv layers to get the number of features for the FC layer\n",
        "            flatten_size = dummy.view(1, -1).size(1)\n",
        "\n",
        "        self.fc1 = nn.Linear(flatten_size, 256) # Fully connected layer 1\n",
        "        self.dropout = nn.Dropout(0.5) # Dropout layer with 50% probability\n",
        "        self.leaky_relu = nn.LeakyReLU(0.01) # Leaky ReLU activation\n",
        "        self.fc2 = nn.Linear(256, 1) # Output layer (1 neuron for binary classification)\n",
        "\n",
        "    # Defines the data flow through the network\n",
        "    def forward(self, x):\n",
        "        x = self._forward_conv(x) # Pass through convolutional layers\n",
        "        x = x.view(x.size(0), -1) # Flatten the output for FC layers\n",
        "        x = F.leaky_relu(self.fc1(x)) # Apply FC1 and Leaky ReLU\n",
        "        x = self.dropout(x) # Apply dropout\n",
        "        x = self.leaky_relu(self.fc2(x)) # Apply FC2 and Leaky ReLU (often sigmoid is applied outside the model for BCEWithLogitsLoss)\n",
        "        return x\n"
      ],
      "metadata": {
        "trusted": true,
        "execution": {
          "iopub.status.busy": "2025-04-26T10:32:33.378984Z",
          "iopub.execute_input": "2025-04-26T10:32:33.379256Z",
          "iopub.status.idle": "2025-04-26T10:32:33.389612Z",
          "shell.execute_reply.started": "2025-04-26T10:32:33.379233Z",
          "shell.execute_reply": "2025-04-26T10:32:33.388669Z"
        },
        "id": "IGp6Djdd2Ogf"
      },
      "outputs": [],
      "execution_count": null
    },
    {
      "cell_type": "markdown",
      "source": [
        "## Step 4: Preparing Models for Training - Optimization and Regularization Strategies"
      ],
      "metadata": {
        "id": "K5hvPude2Ogg"
      }
    },
    {
      "cell_type": "markdown",
      "metadata": {
        "id": "new-markdown-cell-9"
      },
      "source": [
        "### 4.1 Enabling Data Parallelism - Using Multiple GPUs (If Available)\n",
        "\n",
        "If multiple GPUs are available in the training environment, we can leverage them to speed up the training process. PyTorch provides a simple way to do this using `nn.DataParallel`.\n",
        "\n",
        "*   **`nn.DataParallel(model)`**: This wrapper automatically distributes the input data (batches) across the available GPUs. In each forward pass, the model is replicated on each GPU, each replica processes a portion of the batch, and then the gradients are collected and averaged on the main GPU during the backward pass to update the model parameters. This can lead to significant speedups in training time, roughly proportional to the number of GPUs used (though there's some overhead).\n",
        "\n",
        "*   **`.to(device)`**: After wrapping the model with `nn.DataParallel`, we again use `.to(device)` to move the model (and its parallelized operations) to the appropriate device. If `device` is 'cuda' (meaning GPUs are available), the model will be set up for multi-GPU training. If `device` is 'cpu', `nn.DataParallel` won't have a practical effect but also won't cause errors.\n",
        "\n",
        "This operation is applied to all three of our models (`model1` - VGG16, `model2` - ResNet50, and `model3` - CustomCNN) to ensure they can utilize multiple GPUs if present."
      ]
    },
    {
      "cell_type": "code",
      "source": [
        "model1 = nn.DataParallel(model1).to(device)\n",
        "model2 = nn.DataParallel(model2).to(device)\n",
        "model3 = CustomCNN(input_channels=3).to(device)\n",
        "model3 = nn.DataParallel(model3)"
      ],
      "metadata": {
        "execution": {
          "iopub.status.busy": "2025-04-26T10:32:33.390545Z",
          "iopub.execute_input": "2025-04-26T10:32:33.390845Z",
          "iopub.status.idle": "2025-04-26T10:32:33.622094Z",
          "shell.execute_reply.started": "2025-04-26T10:32:33.390811Z",
          "shell.execute_reply": "2025-04-26T10:32:33.621216Z"
        },
        "trusted": true,
        "id": "jwNOsvsu2Ogh"
      },
      "outputs": [],
      "execution_count": null
    },
    {
      "cell_type": "markdown",
      "metadata": {
        "id": "new-markdown-cell-10"
      },
      "source": [
        "### 4.2 Defining the Loss Function, Optimizers, and Learning Rate Schedulers\n",
        "\n",
        "To train our neural networks, we need to define a few key components:\n",
        "\n",
        "**1. Loss Function (`criterion`)**\n",
        "*   **What it is**: A loss function quantifies how well our model is performing. It measures the difference (or \"loss\") between the model's predicted output and the actual target labels. The goal of training is to minimize this loss.\n",
        "*   **`nn.BCEWithLogitsLoss()`**: We're using Binary Cross Entropy with Logits Loss.\n",
        "    *   This loss function is particularly well-suited for **binary classification problems** (where there are two possible output classes, like 'benign' or 'malignant').\n",
        "    *   It cleverly combines a Sigmoid activation function (which squashes outputs to a 0-1 probability range) and the Binary Cross Entropy (BCE) loss into a single class.\n",
        "    *   Using `BCEWithLogitsLoss` is generally more numerically stable than applying a separate Sigmoid layer followed by a standard `BCELoss`, as it can prevent issues with vanishing gradients when the sigmoid output is very close to 0 or 1.\n",
        "\n",
        "**2. Optimizers (`optimizer1`, `optimizer2`, `optimizer3`)**\n",
        "*   **What they do**: An optimizer is an algorithm that adjusts the model's parameters (weights and biases) in response to the loss calculated. It uses the gradients computed during backpropagation to guide these updates, aiming to minimize the loss function.\n",
        "*   **`optim.Adam(model.parameters(), lr=0.001)`**: We are using the Adam optimizer for each of our three models.\n",
        "    *   Adam (Adaptive Moment Estimation) is a popular and effective optimization algorithm that adapts the learning rate for each parameter. It's known for its efficiency and often works well with default settings.\n",
        "    *   `model.parameters()`: This tells the optimizer which parameters it needs to update (all learnable parameters of the respective model).\n",
        "    *   `lr=0.001`: This is the **initial learning rate**. The learning rate determines the step size the optimizer takes during each parameter update. A value of 0.001 is a common starting point.\n",
        "*   *Note*: A separate optimizer is instantiated for each model (`model1`, `model2`, `model3`) because they are trained independently before their predictions are combined in the ensemble.\n",
        "\n",
        "**3. Learning Rate Schedulers (`scheduler1`, `scheduler2`, `scheduler3`)**\n",
        "*   **What they do**: A learning rate scheduler dynamically adjusts the learning rate during the training process. Starting with a relatively higher learning rate can help the model learn quickly initially, while gradually reducing it can help the model fine-tune its weights and converge to a better minimum of the loss function.\n",
        "*   **`ReduceLROnPlateau(optimizer, threshold=0.01, factor=0.1, patience=3, min_lr=1e-5, verbose=True)`**: We're using the `ReduceLROnPlateau` scheduler.\n",
        "    *   This scheduler monitors a specified metric (typically validation loss) and reduces the learning rate when this metric stops improving.\n",
        "    *   `optimizer`: The optimizer whose learning rate will be adjusted.\n",
        "    *   `threshold=0.01`: The minimum relative improvement required to consider the metric as improving.\n",
        "    *   `factor=0.1`: The factor by which the learning rate will be reduced (e.g., new_lr = old_lr * 0.1).\n",
        "    *   `patience=3`: The number of epochs to wait for improvement before reducing the learning rate. If the monitored metric doesn't improve for 3 consecutive epochs, the learning rate is reduced.\n",
        "    *   `min_lr=1e-5`: The minimum allowable learning rate; the scheduler won't reduce it below this value.\n",
        "    *   `verbose=True`: This will print a message to the console each time the learning rate is updated, which is helpful for monitoring the training process.\n",
        "*   *Note*: Similar to optimizers, a separate scheduler is defined for each model's optimizer."
      ]
    },
    {
      "cell_type": "code",
      "source": [
        "# Defining the loss, optimizer, and annealer\n",
        "criterion = nn.BCEWithLogitsLoss()\n",
        "\n",
        "optimizer1 = optim.Adam(model1.parameters(), lr = 0.001)\n",
        "optimizer2 = optim.Adam(model2.parameters(), lr = 0.001)\n",
        "optimizer3 = optim.Adam(model2.parameters(), lr = 0.001)\n",
        "\n",
        "scheduler1 = ReduceLROnPlateau(optimizer1, threshold = 0.01, factor = 0.1, patience = 3, min_lr = 1e-5, verbose = True)\n",
        "scheduler2 = ReduceLROnPlateau(optimizer2, threshold = 0.01, factor = 0.1, patience = 3, min_lr = 1e-5, verbose = True)\n",
        "scheduler3 = ReduceLROnPlateau(optimizer3, threshold = 0.01, factor = 0.1, patience = 3, min_lr = 1e-5, verbose = True)"
      ],
      "metadata": {
        "execution": {
          "iopub.status.busy": "2025-04-26T10:32:33.623116Z",
          "iopub.execute_input": "2025-04-26T10:32:33.623457Z",
          "iopub.status.idle": "2025-04-26T10:32:33.630033Z",
          "shell.execute_reply.started": "2025-04-26T10:32:33.623427Z",
          "shell.execute_reply": "2025-04-26T10:32:33.629255Z"
        },
        "trusted": true,
        "id": "P0bkqTgL2Ogh"
      },
      "outputs": [],
      "execution_count": null
    },
    {
      "cell_type": "markdown",
      "source": [
        "### 4.3 Implementing Early Stopping - Preventing Overfitting"
      ],
      "metadata": {
        "id": "mFXcMRI02Ogi"
      }
    },
    {
      "cell_type": "markdown",
      "metadata": {
        "id": "new-markdown-cell-11"
      },
      "source": [
        "**Early stopping** is a form of regularization used to prevent overfitting when training a neural network (or any iterative machine learning model). Overfitting happens when a model learns the training data too well, including its noise and specific quirks, and as a result, performs poorly on new, unseen data (like the validation or test set).\n",
        "\n",
        "**How it Works:**\n",
        "The core idea of early stopping is to monitor the model's performance on a validation dataset during training. Typically, we look at the validation loss:\n",
        "1.  At the end of each epoch, the model is evaluated on the validation set.\n",
        "2.  If the validation loss stops decreasing (or another chosen metric like validation accuracy stops increasing) for a certain number of consecutive epochs (defined by `patience`), the training process is halted.\n",
        "3.  The model weights that achieved the best performance on the validation set are usually saved and considered the final model.\n",
        "\n",
        "This prevents the model from continuing to train and potentially overfit to the training data once its ability to generalize to unseen data (the validation set) starts to degrade.\n",
        "\n",
        "**Variables Initialized Below:**\n",
        "The code cell below initializes variables needed to implement early stopping for each of our three models independently:\n",
        "\n",
        "*   **`patience = 5`**: This is the number of epochs the training process will wait for an improvement in validation loss before stopping. If the validation loss doesn't get better than the `bestLossN` by at least `minDelta` for 5 consecutive epochs, training for that model will stop.\n",
        "*   **`minDelta = 0.01`**: This defines the minimum change in the monitored quantity (validation loss) that qualifies as an improvement. If the validation loss decreases, but by less than `minDelta`, it might not be considered a significant enough improvement to reset the patience counter.\n",
        "*   **`currentPatienceN` (e.g., `currentPatience1`, `currentPatience2`, `currentPatience3`)**: These are counters that track how many epochs have passed without a significant improvement in validation loss for each respective model. They are initialized to 0.\n",
        "*   **`bestLossN` (e.g., `bestLoss1`, `bestLoss2`, `bestLoss3`)**: These variables will store the lowest validation loss observed so far during training for each model. They are initialized to positive infinity (`float('inf')`) so that the first validation loss encountered will always be lower."
      ]
    },
    {
      "cell_type": "code",
      "source": [
        "patience = 5\n",
        "minDelta = 0.01\n",
        "\n",
        "currentPatience1 = 0\n",
        "bestLoss1 = float('inf')\n",
        "\n",
        "currentPatience2 = 0\n",
        "bestLoss2 = float('inf')\n",
        "\n",
        "currentPatience3 = 0\n",
        "bestLoss3 = float('inf')"
      ],
      "metadata": {
        "execution": {
          "iopub.status.busy": "2025-04-26T10:32:33.631112Z",
          "iopub.execute_input": "2025-04-26T10:32:33.631379Z",
          "iopub.status.idle": "2025-04-26T10:32:33.640467Z",
          "shell.execute_reply.started": "2025-04-26T10:32:33.631358Z",
          "shell.execute_reply": "2025-04-26T10:32:33.639652Z"
        },
        "trusted": true,
        "id": "lLD1zzj62Ogi"
      },
      "outputs": [],
      "execution_count": null
    },
    {
      "cell_type": "markdown",
      "source": [
        "# Check for saved model in Google Drive"
      ],
      "metadata": {
        "id": "BfEklBtQGEr9"
      }
    },
    {
      "cell_type": "code",
      "source": [
        "# ---------------------------------------------------------------\n",
        "# Persistent Model Storage with Google Drive in Colab\n",
        "# ---------------------------------------------------------------\n",
        "# This code mounts your Google Drive, checks for existing models\n",
        "# in Notebooks/models, and loads them if they exist.\n",
        "# If models are missing, they will be trained and saved later.\n",
        "# This way, you don't lose your progress if Colab disconnects.\n",
        "# ---------------------------------------------------------------\n",
        "\n",
        "import os\n",
        "\n",
        "# Mount Google Drive to access persistent storage\n",
        "from google.colab import drive\n",
        "drive.mount('/content/drive')\n",
        "\n",
        "import tensorflow as tf\n",
        "\n",
        "# Directory where models will be stored (in your Google Drive)\n",
        "MODEL_DIR = '/content/drive/MyDrive/Notebooks/models'\n",
        "os.makedirs(MODEL_DIR, exist_ok=True)\n",
        "\n",
        "# Define model filenames\n",
        "model_filenames = [\n",
        "    'SkinCancerModel1.h5',\n",
        "    'SkinCancerModel2.h5',\n",
        "    'SkinCancerModel3.h5'\n",
        "]\n",
        "\n",
        "# Try to load each model from Google Drive if it exists\n",
        "models = []\n",
        "model_exists = []\n",
        "\n",
        "for fname in model_filenames:\n",
        "    model_path = os.path.join(MODEL_DIR, fname)\n",
        "    if os.path.exists(model_path):\n",
        "        print(f\"Found {fname} in Google Drive. Loading model...\")\n",
        "        model = tf.keras.models.load_model(model_path)\n",
        "        models.append(model)\n",
        "        model_exists.append(True)\n",
        "    else:\n",
        "        print(f\"{fname} not found in Google Drive. Will train and save later.\")\n",
        "        models.append(None)  # Placeholder for model to be trained\n",
        "        model_exists.append(False)\n",
        "\n",
        "# Unpack models for easy access (model1, model2, model3)\n",
        "model1, model2, model3 = models\n",
        "\n",
        "\n",
        "\n",
        "# Now, throughout your notebook, use model1, model2, and model3 as usual.\n",
        "# If a model exists, it will be loaded. If not, it will be trained and saved."
      ],
      "metadata": {
        "id": "F5pY45fPGLYp"
      },
      "execution_count": null,
      "outputs": []
    },
    {
      "cell_type": "markdown",
      "source": [
        "# Training Model"
      ],
      "metadata": {
        "id": "Ljnpez2M2Ogj"
      }
    },
    {
      "cell_type": "code",
      "source": [
        "# Gradient scaler for mixed-precision training\n",
        "scaler1 = GradScaler()\n",
        "scaler2 = GradScaler()\n",
        "scaler3 = GradScaler()\n",
        "\n",
        "\n",
        "# Lists to store training and validation metrics\n",
        "trainLosses1 = []\n",
        "valLosses1 = []\n",
        "valAccs1 = []\n",
        "\n",
        "trainLosses2 = []\n",
        "valLosses2 = []\n",
        "valAccs2= []\n",
        "\n",
        "trainLosses3 = []\n",
        "valLosses3 = []\n",
        "valAccs3 = []\n",
        "\n",
        "# Training loop\n",
        "epochs = 40\n",
        "\n",
        "for epoch in range(epochs):\n",
        "    # Training phase\n",
        "    model1.train()\n",
        "    model2.train()\n",
        "    model3.train()\n",
        "\n",
        "    runningLoss1 = 0.0\n",
        "    runningLoss2= 0.0\n",
        "    runningLoss3= 0.0\n",
        "\n",
        "\n",
        "    for inputs, labels in trainLoader:\n",
        "        inputs, labels = inputs.to(device), labels.to(device)\n",
        "        labels = labels.unsqueeze(1).float()\n",
        "\n",
        "        optimizer1.zero_grad()\n",
        "        optimizer2.zero_grad()\n",
        "        optimizer3.zero_grad()\n",
        "\n",
        "        with autocast():\n",
        "            outputs1 = model1(inputs)\n",
        "            loss1 = criterion(outputs1, labels)\n",
        "\n",
        "            outputs2 = model2(inputs)\n",
        "            loss2 = criterion(outputs2, labels)\n",
        "\n",
        "            outputs3 = model3(inputs)\n",
        "            loss3 = criterion(outputs3, labels)\n",
        "\n",
        "        scaler1.scale(loss1).backward()\n",
        "        scaler1.step(optimizer1)\n",
        "        scaler1.update()\n",
        "\n",
        "        scaler2.scale(loss2).backward()\n",
        "        scaler2.step(optimizer2)\n",
        "        scaler2.update()\n",
        "\n",
        "        scaler3.scale(loss3).backward()\n",
        "        scaler3.step(optimizer3)\n",
        "        scaler3.update()\n",
        "\n",
        "        runningLoss1 += loss1.item()\n",
        "        runningLoss2 += loss2.item()\n",
        "        runningLoss3 += loss3.item()\n",
        "\n",
        "    trainLoss1 = runningLoss1 / len(trainLoader)\n",
        "    trainLoss2 = runningLoss2 / len(trainLoader)\n",
        "    trainLoss3 = runningLoss3 / len(trainLoader)\n",
        "\n",
        "\n",
        "    print(f'Epoch {epoch + 1}/{epochs} - Training Loss vgg16: {trainLoss1:.2f},Training Loss resnet50: {trainLoss2:.2f}, Training Loss custom cnn: {trainLoss3:.2f}')\n",
        "    trainLosses1.append(trainLoss1)\n",
        "    trainLosses2.append(trainLoss2)\n",
        "    trainLosses3.append(trainLoss3)\n",
        "\n",
        "\n",
        "    # Validation phase\n",
        "    model1.eval()\n",
        "    model2.eval()\n",
        "    model3.eval()\n",
        "\n",
        "    with torch.no_grad():\n",
        "        valLoss1 = 0.0\n",
        "        valLoss2 =0.0\n",
        "        valLoss3 =0.0\n",
        "\n",
        "        correct1 = total1 = 0\n",
        "        correct2 = total2 = 0\n",
        "        correct3 = total3 = 0\n",
        "\n",
        "\n",
        "        for inputs, labels in valLoader:\n",
        "            inputs, labels = inputs.to(device), labels.to(device)\n",
        "            labels = labels.unsqueeze(1).float()\n",
        "\n",
        "            outputs1 = model1(inputs)\n",
        "            loss1 = criterion(outputs1, labels)\n",
        "            valLoss1 += loss1.item()\n",
        "\n",
        "            predicted1 = (torch.sigmoid(outputs1) > 0.5).float()\n",
        "            total1 += labels.size(0)\n",
        "            correct1 += (predicted1 == labels).sum().item()\n",
        "\n",
        "\n",
        "            outputs2 = model2(inputs)\n",
        "            loss2 = criterion(outputs2, labels)\n",
        "            valLoss2 += loss2.item()\n",
        "\n",
        "            predicted2 = (torch.sigmoid(outputs2) > 0.5).float()\n",
        "            total2 += labels.size(0)\n",
        "            correct2 += (predicted2 == labels).sum().item()\n",
        "\n",
        "            outputs3 = model3(inputs)\n",
        "            loss3 = criterion(outputs3, labels)\n",
        "            valLoss3 += loss3.item()\n",
        "\n",
        "            predicted3 = (torch.sigmoid(outputs3) > 0.5).float()\n",
        "            total3 += labels.size(0)\n",
        "            correct3 += (predicted3 == labels).sum().item()\n",
        "\n",
        "        avgLoss1 = valLoss1 / len(valLoader)\n",
        "        accuracy1 = correct1 / total1 * 100\n",
        "\n",
        "        avgLoss2 = valLoss2 / len(valLoader)\n",
        "        accuracy2 = correct2 / total2 * 100\n",
        "\n",
        "        avgLoss3 = valLoss3 / len(valLoader)\n",
        "        accuracy3 = correct3 / total3 * 100\n",
        "\n",
        "        print(f' Vgg16 Validation Loss : {avgLoss1:.2f} Validation Accuracy : {accuracy1:.2f}%\\n')\n",
        "        print(f'Resnet50 Validation Loss : {avgLoss2:.2f} Validation Accuracy : {accuracy2:.2f}%\\n')\n",
        "        print(f'custom cnn Validation Loss : {avgLoss3:.2f} Validation Accuracy : {accuracy3:.2f}%\\n')\n",
        "\n",
        "        valLosses1.append(avgLoss1)\n",
        "        valAccs1.append(accuracy1)\n",
        "\n",
        "        valLosses2.append(avgLoss2)\n",
        "        valAccs2.append(accuracy2)\n",
        "\n",
        "        valLosses3.append(avgLoss3)\n",
        "        valAccs3.append(accuracy3)\n",
        "\n",
        "        # Early stopping\n",
        "        if avgLoss1 < bestLoss1 - minDelta:\n",
        "            bestLoss1 = avgLoss1\n",
        "            currentPatience1 = 0\n",
        "        else:\n",
        "            currentPatience1 += 1\n",
        "            if currentPatience1 >= patience:\n",
        "                print('Early stopping triggered.')\n",
        "                break\n",
        "\n",
        "        scheduler1.step(avgLoss1)\n",
        "\n",
        "        if avgLoss2 < bestLoss2 - minDelta:\n",
        "            bestLoss2 = avgLoss2\n",
        "            currentPatience2 = 0\n",
        "        else:\n",
        "            currentPatience2 += 1\n",
        "            if currentPatience2 >= patience:\n",
        "                print('Early stopping triggered.')\n",
        "                break\n",
        "\n",
        "        scheduler2.step(avgLoss2)\n",
        "\n",
        "        if avgLoss3 < bestLoss3 - minDelta:\n",
        "            bestLoss3 = avgLoss3\n",
        "            currentPatience3 = 0\n",
        "        else:\n",
        "            currentPatience3 += 1\n",
        "            if currentPatience3 >= patience:\n",
        "                print('Early stopping triggered.')\n",
        "                break\n",
        "\n",
        "        scheduler3.step(avgLoss3)\n",
        "\n",
        "# finished training\n",
        "# save models to drive\n",
        "if not model_exists[0]: model1.save(os.path.join(MODEL_DIR, model_filenames[0]))\n",
        "if not model_exists[1]: model2.save(os.path.join(MODEL_DIR, model_filenames[1]))\n",
        "if not model_exists[2]: model3.save(os.path.join(MODEL_DIR, model_filenames[2]))"
      ],
      "metadata": {
        "execution": {
          "iopub.status.busy": "2025-04-26T10:32:33.643751Z",
          "iopub.execute_input": "2025-04-26T10:32:33.64398Z",
          "iopub.status.idle": "2025-04-26T10:36:05.258728Z",
          "shell.execute_reply.started": "2025-04-26T10:32:33.64396Z",
          "shell.execute_reply": "2025-04-26T10:36:05.257646Z"
        },
        "trusted": true,
        "id": "9z1YvRUm2Ogk",
        "outputId": "b8d03533-733c-49f1-ba83-cd3b6007435f",
        "colab": {
          "base_uri": "https://localhost:8080/"
        }
      },
      "outputs": [
        {
          "output_type": "stream",
          "name": "stdout",
          "text": [
            "Epoch 1/40 - Training Loss vgg16: 1.20,Training Loss resnet50: 0.30, Training Loss custom cnn: 0.70\n",
            " Vgg16 Validation Loss : 0.53 Validation Accuracy : 74.10%\n",
            "\n",
            "Resnet50 Validation Loss : 0.31 Validation Accuracy : 85.75%\n",
            "\n",
            "custom cnn Validation Loss : 0.69 Validation Accuracy : 48.85%\n",
            "\n",
            "Epoch 2/40 - Training Loss vgg16: 0.41,Training Loss resnet50: 0.24, Training Loss custom cnn: 0.70\n",
            " Vgg16 Validation Loss : 0.48 Validation Accuracy : 70.25%\n",
            "\n",
            "Resnet50 Validation Loss : 0.23 Validation Accuracy : 91.10%\n",
            "\n",
            "custom cnn Validation Loss : 0.69 Validation Accuracy : 49.55%\n",
            "\n",
            "Epoch 3/40 - Training Loss vgg16: 0.34,Training Loss resnet50: 0.21, Training Loss custom cnn: 0.70\n",
            " Vgg16 Validation Loss : 0.34 Validation Accuracy : 86.05%\n",
            "\n",
            "Resnet50 Validation Loss : 0.25 Validation Accuracy : 90.25%\n",
            "\n",
            "custom cnn Validation Loss : 0.69 Validation Accuracy : 49.65%\n",
            "\n",
            "Epoch 4/40 - Training Loss vgg16: 0.31,Training Loss resnet50: 0.20, Training Loss custom cnn: 0.70\n",
            " Vgg16 Validation Loss : 0.31 Validation Accuracy : 86.15%\n",
            "\n",
            "Resnet50 Validation Loss : 0.23 Validation Accuracy : 90.25%\n",
            "\n",
            "custom cnn Validation Loss : 0.69 Validation Accuracy : 49.60%\n",
            "\n",
            "Epoch 5/40 - Training Loss vgg16: 0.30,Training Loss resnet50: 0.19, Training Loss custom cnn: 0.70\n",
            " Vgg16 Validation Loss : 0.34 Validation Accuracy : 83.55%\n",
            "\n",
            "Resnet50 Validation Loss : 0.26 Validation Accuracy : 87.90%\n",
            "\n",
            "custom cnn Validation Loss : 0.69 Validation Accuracy : 49.65%\n",
            "\n",
            "Epoch 6/40 - Training Loss vgg16: 0.29,Training Loss resnet50: 0.17, Training Loss custom cnn: 0.70\n",
            " Vgg16 Validation Loss : 0.33 Validation Accuracy : 85.85%\n",
            "\n",
            "Resnet50 Validation Loss : 0.16 Validation Accuracy : 94.00%\n",
            "\n",
            "custom cnn Validation Loss : 0.69 Validation Accuracy : 49.55%\n",
            "\n",
            "Early stopping triggered.\n"
          ]
        }
      ],
      "execution_count": null
    },
    {
      "cell_type": "markdown",
      "source": [
        "# Model Size Evaluation and Conversion for Embedded Deployment"
      ],
      "metadata": {
        "id": "GaS3jUcfL6Yy"
      }
    },
    {
      "cell_type": "code",
      "source": [
        "# ---------------------------------------------------------------\n",
        "# Model Size Evaluation and Conversion for Embedded Deployment\n",
        "# ---------------------------------------------------------------\n",
        "# This code saves your trained models, measures their sizes,\n",
        "# and converts them to TensorFlow Lite format (with and without quantization).\n",
        "# Quantization is essential for running models efficiently on small devices.\n",
        "# ---------------------------------------------------------------\n",
        "\n",
        "import os\n",
        "import tensorflow as tf\n",
        "import numpy as np\n",
        "\n",
        "# Put your trained model variable names here\n",
        "# For example: model1, model2, model3\n",
        "models = {\n",
        "    'model1': model1,\n",
        "    'model2': model2,\n",
        "    'model3': model3\n",
        "}\n",
        "\n",
        "# Loop through each model and perform the following steps\n",
        "for name, model in models.items():\n",
        "    print(f\"\\n--- Evaluating {name} ---\")\n",
        "\n",
        "    # 1. Save the model as an HDF5 file (.h5)\n",
        "    #    This is a standard format for Keras/TensorFlow models.\n",
        "    h5_path = f\"{name}.h5\"\n",
        "    model.save(h5_path, save_format='h5')\n",
        "    h5_size = os.path.getsize(h5_path) / (1024 * 1024)  # Convert bytes to megabytes\n",
        "    print(f\"{name} saved as HDF5 (.h5) file: {h5_size:.2f} MB\")\n",
        "\n",
        "    # 2. Convert the model to TensorFlow Lite (.tflite) format (floating-point)\n",
        "    #    TFLite models are optimized for mobile and embedded devices.\n",
        "    converter = tf.lite.TFLiteConverter.from_keras_model(model)\n",
        "    tflite_model = converter.convert()\n",
        "    tflite_path = f\"{name}.tflite\"\n",
        "    with open(tflite_path, \"wb\") as f:\n",
        "        f.write(tflite_model)\n",
        "    tflite_size = os.path.getsize(tflite_path) / (1024 * 1024)\n",
        "    print(f\"{name} converted to TFLite (float32): {tflite_size:.2f} MB\")\n",
        "\n",
        "    # 3. Convert the model to a quantized TFLite model (smaller size, lower precision)\n",
        "    #    Quantization reduces file size by representing weights with fewer bits.\n",
        "    #    This is critical for tiny devices with limited memory.\n",
        "    converter.optimizations = [tf.lite.Optimize.DEFAULT]\n",
        "\n",
        "    # For quantization, we need to provide a small set of sample data\n",
        "    # so TFLite can calibrate the conversion (called \"representative dataset\").\n",
        "    # Here, we use random data shaped like a single input image.\n",
        "    # In practice, use a few real samples from your dataset for best results.\n",
        "    def representative_data_gen():\n",
        "        for _ in range(100):\n",
        "            # Replace the shape below with your model's input shape (excluding batch dimension)\n",
        "            dummy_input = np.random.rand(1, *model.input.shape[1:]).astype(np.float32)\n",
        "            yield [dummy_input]\n",
        "    converter.representative_dataset = representative_data_gen\n",
        "\n",
        "    # Set the quantization parameters: use integer operations for weights and activations\n",
        "    converter.target_spec.supported_ops = [tf.lite.OpsSet.TFLITE_BUILTINS_INT8]\n",
        "    converter.inference_input_type = tf.uint8\n",
        "    converter.inference_output_type = tf.uint8\n",
        "\n",
        "    # Convert and save the quantized model\n",
        "    quant_tflite_model = converter.convert()\n",
        "    quant_tflite_path = f\"{name}_quant.tflite\"\n",
        "    with open(quant_tflite_path, \"wb\") as f:\n",
        "        f.write(quant_tflite_model)\n",
        "    quant_tflite_size = os.path.getsize(quant_tflite_path) / (1024 * 1024)\n",
        "    print(f\"{name} quantized TFLite (int8/uint8): {quant_tflite_size:.2f} MB\")\n",
        "\n",
        "    # Summary for this model\n",
        "    print(f\"\\nSummary for {name}:\")\n",
        "    print(f\"  HDF5 (.h5) size:           {h5_size:.2f} MB\")\n",
        "    print(f\"  TFLite (float32) size:     {tflite_size:.2f} MB\")\n",
        "    print(f\"  Quantized TFLite (int8):   {quant_tflite_size:.2f} MB\")\n",
        "    print(\"---------------------------------------------------\")\n",
        "\n",
        "print(\"\\nDone! Now you can check the file sizes and decide which format is best for your embedded device.\\n\")\n",
        "print(\"Tip: Quantized TFLite models are usually MUCH smaller and faster, but may lose a little accuracy.\")"
      ],
      "metadata": {
        "id": "EfimU3rtL4jn"
      },
      "execution_count": null,
      "outputs": []
    },
    {
      "cell_type": "markdown",
      "source": [
        "# evaluation metrics"
      ],
      "metadata": {
        "id": "EtY9EQKC2Ogk"
      }
    },
    {
      "cell_type": "code",
      "source": [
        "model1.eval()\n",
        "allLabels = []\n",
        "allPreds1 = []\n",
        "\n",
        "with torch.no_grad():\n",
        "    for inputs, labels in valLoader:\n",
        "        inputs, labels = inputs.to(device), labels.to(device)\n",
        "        labels = labels.unsqueeze(1).float()\n",
        "\n",
        "        outputs1 = model1(inputs)\n",
        "        predictions1 = (torch.sigmoid(outputs1) > 0.5).float()\n",
        "\n",
        "        allLabels.extend(labels.cpu().numpy())\n",
        "        allPreds1.extend(predictions1.cpu().numpy())\n",
        "\n",
        "allLabels = np.array(allLabels)\n",
        "allPreds1 = np.array(allPreds1)\n",
        "\n",
        "\n",
        "# Accuracy\n",
        "accuracy = accuracy_score(allLabels, allPreds1)\n",
        "print(f'Accuracy: {accuracy:.4f}')\n",
        "\n",
        "# Precision\n",
        "precision = precision_score(allLabels, allPreds1, average='binary')\n",
        "print(f'Precision: {precision:.4f}')\n",
        "\n",
        "# Recall\n",
        "recall = recall_score(allLabels, allPreds1, average='binary')\n",
        "print(f'Recall: {recall:.4f}')\n",
        "\n",
        "# F1 Score\n",
        "f1 = f1_score(allLabels, allPreds1, average='binary')\n",
        "print(f'F1 Score: {f1:.4f}')"
      ],
      "metadata": {
        "trusted": true,
        "execution": {
          "iopub.status.busy": "2025-04-26T11:05:27.717321Z",
          "iopub.execute_input": "2025-04-26T11:05:27.717714Z",
          "iopub.status.idle": "2025-04-26T11:05:30.814832Z",
          "shell.execute_reply.started": "2025-04-26T11:05:27.717686Z",
          "shell.execute_reply": "2025-04-26T11:05:30.813779Z"
        },
        "id": "rNjoZduG2Ogl",
        "outputId": "78c058ed-6abc-432b-dffd-beb5d919e548",
        "colab": {
          "base_uri": "https://localhost:8080/"
        }
      },
      "outputs": [
        {
          "output_type": "stream",
          "name": "stdout",
          "text": [
            "Accuracy: 0.8585\n",
            "Precision: 0.9324\n",
            "Recall: 0.7730\n",
            "F1 Score: 0.8453\n"
          ]
        }
      ],
      "execution_count": null
    },
    {
      "cell_type": "code",
      "source": [
        "model2.eval()\n",
        "allLabels = []\n",
        "allPreds2 = []\n",
        "\n",
        "with torch.no_grad():\n",
        "    for inputs, labels in valLoader:\n",
        "        inputs, labels = inputs.to(device), labels.to(device)\n",
        "        labels = labels.unsqueeze(1).float()\n",
        "\n",
        "        outputs2 = model2(inputs)\n",
        "        predictions2 = (torch.sigmoid(outputs2) > 0.5).float()\n",
        "\n",
        "        allLabels.extend(labels.cpu().numpy())\n",
        "        allPreds2.extend(predictions2.cpu().numpy())\n",
        "\n",
        "allLabels = np.array(allLabels)\n",
        "allPreds2 = np.array(allPreds2)\n",
        "\n",
        "\n",
        "# Accuracy\n",
        "accuracy = accuracy_score(allLabels, allPreds2)\n",
        "print(f'Accuracy: {accuracy:.4f}')\n",
        "\n",
        "# Precision\n",
        "precision = precision_score(allLabels, allPreds2, average='binary')\n",
        "print(f'Precision: {precision:.4f}')\n",
        "\n",
        "# Recall\n",
        "recall = recall_score(allLabels, allPreds2, average='binary')\n",
        "print(f'Recall: {recall:.4f}')\n",
        "\n",
        "# F1 Score\n",
        "f1 = f1_score(allLabels, allPreds2, average='binary')\n",
        "print(f'F1 Score: {f1:.4f}')"
      ],
      "metadata": {
        "trusted": true,
        "execution": {
          "iopub.status.busy": "2025-04-26T11:05:33.645842Z",
          "iopub.execute_input": "2025-04-26T11:05:33.646151Z",
          "iopub.status.idle": "2025-04-26T11:05:35.916477Z",
          "shell.execute_reply.started": "2025-04-26T11:05:33.646125Z",
          "shell.execute_reply": "2025-04-26T11:05:35.915342Z"
        },
        "id": "8mSTirra2Ogl",
        "outputId": "23f64c71-f145-46ac-8dcb-f07b6a39e01a",
        "colab": {
          "base_uri": "https://localhost:8080/"
        }
      },
      "outputs": [
        {
          "output_type": "stream",
          "name": "stdout",
          "text": [
            "Accuracy: 0.9400\n",
            "Precision: 0.9435\n",
            "Recall: 0.9360\n",
            "F1 Score: 0.9398\n"
          ]
        }
      ],
      "execution_count": null
    },
    {
      "cell_type": "code",
      "source": [
        "model3.eval()\n",
        "allLabels = []\n",
        "allPreds3 = []\n",
        "\n",
        "with torch.no_grad():\n",
        "    for inputs, labels in valLoader:\n",
        "        inputs, labels = inputs.to(device), labels.to(device)\n",
        "        labels = labels.unsqueeze(1).float()\n",
        "\n",
        "        outputs3 = model3(inputs)\n",
        "        predictions3 = (torch.sigmoid(outputs3) > 0.5).float()\n",
        "\n",
        "        allLabels.extend(labels.cpu().numpy())\n",
        "        allPreds3.extend(predictions3.cpu().numpy())\n",
        "\n",
        "allLabels = np.array(allLabels)\n",
        "allPreds3 = np.array(allPreds3)\n",
        "\n",
        "\n",
        "# Accuracy\n",
        "accuracy = accuracy_score(allLabels, allPreds3)\n",
        "print(f'Accuracy: {accuracy:.4f}')\n",
        "\n",
        "# Precision\n",
        "precision = precision_score(allLabels, allPreds3, average='binary')\n",
        "print(f'Precision: {precision:.4f}')\n",
        "\n",
        "# Recall\n",
        "recall = recall_score(allLabels, allPreds3, average='binary')\n",
        "print(f'Recall: {recall:.4f}')\n",
        "\n",
        "# F1 Score\n",
        "f1 = f1_score(allLabels, allPreds3, average='binary')\n",
        "print(f'F1 Score: {f1:.4f}')"
      ],
      "metadata": {
        "trusted": true,
        "execution": {
          "iopub.status.busy": "2025-04-26T11:05:38.87154Z",
          "iopub.execute_input": "2025-04-26T11:05:38.872401Z",
          "iopub.status.idle": "2025-04-26T11:05:40.790398Z",
          "shell.execute_reply.started": "2025-04-26T11:05:38.872357Z",
          "shell.execute_reply": "2025-04-26T11:05:40.789304Z"
        },
        "id": "WS4O2Gqr2Ogl",
        "outputId": "4a663de1-248e-4e80-aa3f-17916187fc4d",
        "colab": {
          "base_uri": "https://localhost:8080/"
        }
      },
      "outputs": [
        {
          "output_type": "stream",
          "name": "stdout",
          "text": [
            "Accuracy: 0.4955\n",
            "Precision: 0.4384\n",
            "Recall: 0.0320\n",
            "F1 Score: 0.0596\n"
          ]
        }
      ],
      "execution_count": null
    },
    {
      "cell_type": "markdown",
      "source": [
        "# visualisation"
      ],
      "metadata": {
        "id": "XcZXbiCF2Ogm"
      }
    },
    {
      "cell_type": "code",
      "source": [
        "# Plotting training and validation metrics\n",
        "plt.figure(figsize = (10, 5))\n",
        "\n",
        "plt.subplot(1, 2, 1)\n",
        "plt.plot(trainLosses1, label = ' Vgg16 Training Loss')\n",
        "plt.plot(valLosses1, label = 'Vgg16 Validation Loss')\n",
        "plt.xlabel('Epoch')\n",
        "plt.ylabel('Loss')\n",
        "plt.legend()\n",
        "\n",
        "plt.subplot(1, 2, 2)\n",
        "plt.plot(valAccs1, label = 'Vgg16 Validation Accuracy')\n",
        "plt.xlabel('Epoch')\n",
        "plt.ylabel('Accuracy (%)')\n",
        "plt.legend()\n",
        "\n",
        "plt.show()"
      ],
      "metadata": {
        "execution": {
          "iopub.status.busy": "2025-04-26T10:36:05.260085Z",
          "iopub.execute_input": "2025-04-26T10:36:05.260417Z",
          "iopub.status.idle": "2025-04-26T10:36:05.702616Z",
          "shell.execute_reply.started": "2025-04-26T10:36:05.260389Z",
          "shell.execute_reply": "2025-04-26T10:36:05.701716Z"
        },
        "trusted": true,
        "id": "2W3rSQt92Ogm",
        "outputId": "adbe8c63-df17-43da-c973-346047917892",
        "colab": {
          "base_uri": "https://localhost:8080/",
          "height": 465
        }
      },
      "outputs": [
        {
          "output_type": "display_data",
          "data": {
            "text/plain": [
              "<Figure size 1000x500 with 2 Axes>"
            ],
            "image/png": "[encoded data removed]"
          },
          "metadata": {}
        }
      ],
      "execution_count": null
    },
    {
      "cell_type": "code",
      "source": [
        "plt.figure(figsize = (10, 5))\n",
        "\n",
        "plt.subplot(1, 2, 1)\n",
        "plt.plot(trainLosses2, label = ' Resnet50 Training Loss')\n",
        "plt.plot(valLosses2, label = 'Resnet50 Validation Loss')\n",
        "plt.xlabel('Epoch')\n",
        "plt.ylabel('Loss')\n",
        "plt.legend()\n",
        "\n",
        "plt.subplot(1, 2, 2)\n",
        "plt.plot(valAccs2, label = 'Resnet50 Validation Accuracy')\n",
        "plt.xlabel('Epoch')\n",
        "plt.ylabel('Accuracy (%)')\n",
        "plt.legend()\n",
        "\n",
        "plt.show()"
      ],
      "metadata": {
        "trusted": true,
        "execution": {
          "iopub.status.busy": "2025-04-26T10:36:05.703797Z",
          "iopub.execute_input": "2025-04-26T10:36:05.704134Z",
          "iopub.status.idle": "2025-04-26T10:36:06.053153Z",
          "shell.execute_reply.started": "2025-04-26T10:36:05.704101Z",
          "shell.execute_reply": "2025-04-26T10:36:06.052467Z"
        },
        "id": "D_7rzlKe2Ogm",
        "outputId": "bd6a4b98-8c18-46b4-bbd9-0790cb5bee0c",
        "colab": {
          "base_uri": "https://localhost:8080/",
          "height": 469
        }
      },
      "outputs": [
        {
          "output_type": "display_data",
          "data": {
            "text/plain": [
              "<Figure size 1000x500 with 2 Axes>"
            ],
            "image/png": "[encoded data removed]"
          },
          "metadata": {}
        }
      ],
      "execution_count": null
    },
    {
      "cell_type": "code",
      "source": [
        "plt.figure(figsize = (10, 5))\n",
        "\n",
        "plt.subplot(1, 2, 1)\n",
        "plt.plot(trainLosses3, label = ' custom cnn Training Loss')\n",
        "plt.plot(valLosses3, label = 'custom cnn Validation Loss')\n",
        "plt.xlabel('Epoch')\n",
        "plt.ylabel('Loss')\n",
        "plt.legend()\n",
        "\n",
        "plt.subplot(1, 2, 2)\n",
        "plt.plot(valAccs3, label = 'custom cnn Validation Accuracy')\n",
        "plt.xlabel('Epoch')\n",
        "plt.ylabel('Accuracy (%)')\n",
        "plt.legend()\n",
        "\n",
        "plt.show()"
      ],
      "metadata": {
        "trusted": true,
        "execution": {
          "iopub.status.busy": "2025-04-26T10:36:06.054435Z",
          "iopub.execute_input": "2025-04-26T10:36:06.05528Z",
          "iopub.status.idle": "2025-04-26T10:36:06.440633Z",
          "shell.execute_reply.started": "2025-04-26T10:36:06.055243Z",
          "shell.execute_reply": "2025-04-26T10:36:06.439786Z"
        },
        "id": "cuDPC8Uw2Ogm",
        "outputId": "ea869643-e010-479e-e746-b80e2269acf9",
        "colab": {
          "base_uri": "https://localhost:8080/",
          "height": 465
        }
      },
      "outputs": [
        {
          "output_type": "display_data",
          "data": {
            "text/plain": [
              "<Figure size 1000x500 with 2 Axes>"
            ],
            "image/png": "[encoded data removed]"
          },
          "metadata": {}
        }
      ],
      "execution_count": null
    },
    {
      "cell_type": "markdown",
      "source": [
        "# confusion matrices"
      ],
      "metadata": {
        "id": "bCg36tyP2Ogn"
      }
    },
    {
      "cell_type": "code",
      "source": [
        "# Plotting confusion matrix for validation data\n",
        "model1.eval()\n",
        "allLabels = []\n",
        "allPreds1 = []\n",
        "\n",
        "with torch.no_grad():\n",
        "    for inputs, labels in valLoader:\n",
        "        inputs, labels = inputs.to(device), labels.to(device)\n",
        "        labels = labels.unsqueeze(1).float()\n",
        "\n",
        "        outputs1 = model1(inputs)\n",
        "        predictions1 = (torch.sigmoid(outputs1) > 0.5).float()\n",
        "\n",
        "        allLabels.extend(labels.cpu().numpy())\n",
        "        allPreds1.extend(predictions1.cpu().numpy())\n",
        "\n",
        "allLabels = np.array(allLabels)\n",
        "allPreds1 = np.array(allPreds1)\n",
        "\n",
        "matrix1 = confusion_matrix(allLabels, allPreds1)\n",
        "\n",
        "sns.heatmap(matrix1, annot = True, fmt = 'd', cmap = 'Greens', xticklabels = valData.classes, yticklabels = valData.classes, cbar = False)\n",
        "plt.title('Confusion Matrix - Validation Set', fontsize = 16)\n",
        "plt.xlabel('Predicted Label', fontsize = 14)\n",
        "plt.ylabel('True Label', fontsize = 14)\n",
        "plt.show()"
      ],
      "metadata": {
        "execution": {
          "iopub.status.busy": "2025-04-26T10:36:06.441847Z",
          "iopub.execute_input": "2025-04-26T10:36:06.442484Z",
          "iopub.status.idle": "2025-04-26T10:36:09.551408Z",
          "shell.execute_reply.started": "2025-04-26T10:36:06.442445Z",
          "shell.execute_reply": "2025-04-26T10:36:09.549435Z"
        },
        "trusted": true,
        "id": "UCxhW0nQ2Ogn",
        "outputId": "a1107582-620a-415b-abc8-7a3f96f3c038",
        "colab": {
          "base_uri": "https://localhost:8080/",
          "height": 479
        }
      },
      "outputs": [
        {
          "output_type": "display_data",
          "data": {
            "text/plain": [
              "<Figure size 640x480 with 1 Axes>"
            ],
            "image/png": "[encoded data removed]"
          },
          "metadata": {}
        }
      ],
      "execution_count": null
    },
    {
      "cell_type": "code",
      "source": [
        "model2.eval()\n",
        "allLabels = []\n",
        "allPreds2 = []\n",
        "\n",
        "with torch.no_grad():\n",
        "    for inputs, labels in valLoader:\n",
        "        inputs, labels = inputs.to(device), labels.to(device)\n",
        "        labels = labels.unsqueeze(1).float()\n",
        "\n",
        "        outputs2 = model2(inputs)\n",
        "        predictions2 = (torch.sigmoid(outputs2) > 0.5).float()\n",
        "\n",
        "        allLabels.extend(labels.cpu().numpy())\n",
        "        allPreds2.extend(predictions2.cpu().numpy())\n",
        "\n",
        "allLabels = np.array(allLabels)\n",
        "allPreds2 = np.array(allPreds2)\n",
        "\n",
        "matrix2 = confusion_matrix(allLabels, allPreds2)\n",
        "\n",
        "sns.heatmap(matrix2, annot = True, fmt = 'd', cmap = 'Blues', xticklabels = valData.classes, yticklabels = valData.classes, cbar = False)\n",
        "plt.title('Confusion Matrix - Validation Set', fontsize = 16)\n",
        "plt.xlabel('Predicted Label', fontsize = 14)\n",
        "plt.ylabel('True Label', fontsize = 14)\n",
        "plt.show()"
      ],
      "metadata": {
        "trusted": true,
        "execution": {
          "iopub.status.busy": "2025-04-26T10:36:09.553277Z",
          "iopub.execute_input": "2025-04-26T10:36:09.553663Z",
          "iopub.status.idle": "2025-04-26T10:36:11.949324Z",
          "shell.execute_reply.started": "2025-04-26T10:36:09.553629Z",
          "shell.execute_reply": "2025-04-26T10:36:11.948011Z"
        },
        "id": "A8VGvq362Ogn",
        "outputId": "bbccb57f-7c34-465c-f71c-ea9c21ead5ef",
        "colab": {
          "base_uri": "https://localhost:8080/",
          "height": 479
        }
      },
      "outputs": [
        {
          "output_type": "display_data",
          "data": {
            "text/plain": [
              "<Figure size 640x480 with 1 Axes>"
            ],
            "image/png": "[encoded data removed]"
          },
          "metadata": {}
        }
      ],
      "execution_count": null
    },
    {
      "cell_type": "code",
      "source": [
        "model3.eval()\n",
        "allLabels = []\n",
        "allPreds3 = []\n",
        "\n",
        "with torch.no_grad():\n",
        "    for inputs, labels in valLoader:\n",
        "        inputs, labels = inputs.to(device), labels.to(device)\n",
        "        labels = labels.unsqueeze(1).float()\n",
        "\n",
        "        outputs3 = model3(inputs)\n",
        "        predictions3 = (torch.sigmoid(outputs3) > 0.5).float()\n",
        "\n",
        "        allLabels.extend(labels.cpu().numpy())\n",
        "        allPreds3.extend(predictions3.cpu().numpy())\n",
        "\n",
        "allLabels = np.array(allLabels)\n",
        "allPreds3 = np.array(allPreds3)\n",
        "\n",
        "matrix3 = confusion_matrix(allLabels, allPreds3)\n",
        "\n",
        "sns.heatmap(matrix3, annot = True, fmt = 'd', cmap = 'Blues', xticklabels = valData.classes, yticklabels = valData.classes, cbar = False)\n",
        "plt.title('Confusion Matrix - Validation Set', fontsize = 16)\n",
        "plt.xlabel('Predicted Label', fontsize = 14)\n",
        "plt.ylabel('True Label', fontsize = 14)\n",
        "plt.show()"
      ],
      "metadata": {
        "trusted": true,
        "execution": {
          "iopub.status.busy": "2025-04-26T10:36:11.951437Z",
          "iopub.execute_input": "2025-04-26T10:36:11.952398Z",
          "iopub.status.idle": "2025-04-26T10:36:13.93617Z",
          "shell.execute_reply.started": "2025-04-26T10:36:11.952337Z",
          "shell.execute_reply": "2025-04-26T10:36:13.934349Z"
        },
        "id": "WfoFAvsm2Ogo",
        "outputId": "ad261a43-d678-44af-9bee-8bae8da12989",
        "colab": {
          "base_uri": "https://localhost:8080/",
          "height": 479
        }
      },
      "outputs": [
        {
          "output_type": "display_data",
          "data": {
            "text/plain": [
              "<Figure size 640x480 with 1 Axes>"
            ],
            "image/png": "[encoded data removed]"
          },
          "metadata": {}
        }
      ],
      "execution_count": null
    },
    {
      "cell_type": "markdown",
      "source": [
        "# ensemble"
      ],
      "metadata": {
        "id": "xTV9as5f2Ogo"
      }
    },
    {
      "cell_type": "code",
      "source": [
        "models = [model1, model2, model3]\n",
        "#create_ensemble\n",
        "allPreds = []\n",
        "\n",
        "for model in models:\n",
        "    model.eval()\n",
        "\n",
        "with torch.no_grad():\n",
        "    for inputs, _ in valLoader:\n",
        "        inputs = inputs.to(device)\n",
        "        batch_preds = []\n",
        "\n",
        "        for model in models:\n",
        "            outputs = model(inputs)\n",
        "            probs = torch.sigmoid(outputs)\n",
        "            batch_preds.append(probs)\n",
        "\n",
        "\n",
        "        batch_preds = torch.stack(batch_preds, dim=0)\n",
        "        batch_mean = batch_preds.mean(dim=0)\n",
        "\n",
        "\n",
        "        preds = (batch_mean > 0.5).long()\n",
        "        allPreds.append(preds.cpu())\n",
        "\n",
        "\n",
        "final_preds = torch.cat(allPreds, dim=0)\n",
        "\n"
      ],
      "metadata": {
        "trusted": true,
        "execution": {
          "iopub.status.busy": "2025-04-26T11:18:46.977015Z",
          "iopub.execute_input": "2025-04-26T11:18:46.977732Z",
          "iopub.status.idle": "2025-04-26T11:18:51.15295Z",
          "shell.execute_reply.started": "2025-04-26T11:18:46.977696Z",
          "shell.execute_reply": "2025-04-26T11:18:51.151896Z"
        },
        "id": "g7VJwqA92Ogo"
      },
      "outputs": [],
      "execution_count": null
    },
    {
      "cell_type": "code",
      "source": [
        "# evaluate_ensemble\n",
        "y_true = []\n",
        "\n",
        "for _, labels in valLoader:\n",
        "    y_true.extend(labels.cpu().numpy())\n",
        "\n",
        "y_true = np.array(y_true)\n",
        "\n",
        "print(f\"\\n{'='*40}\")\n",
        "print(f\"Evaluating Ensemble\")\n",
        "print(f\"{'='*40}\")\n",
        "\n",
        "# Metrics\n",
        "acc = accuracy_score(y_true, final_preds)\n",
        "precision = precision_score(y_true, final_preds)\n",
        "recall = recall_score(y_true, final_preds)\n",
        "f1 = f1_score(y_true, final_preds)\n",
        "\n",
        "print(f\"Accuracy: {acc*100:.2f}%\")\n",
        "print(f\"Precision: {precision:.4f}\")\n",
        "print(f\"Recall: {recall:.4f}\")\n",
        "print(f\"F1 Score: {f1:.4f}\")\n",
        "\n"
      ],
      "metadata": {
        "trusted": true,
        "execution": {
          "iopub.status.busy": "2025-04-26T11:20:36.531432Z",
          "iopub.execute_input": "2025-04-26T11:20:36.532293Z",
          "iopub.status.idle": "2025-04-26T11:20:38.279456Z",
          "shell.execute_reply.started": "2025-04-26T11:20:36.532255Z",
          "shell.execute_reply": "2025-04-26T11:20:38.278375Z"
        },
        "id": "rkCHK7Sd2Ogp",
        "outputId": "3fc4a27f-60a8-4648-9db2-8daff7f1ecad",
        "colab": {
          "base_uri": "https://localhost:8080/"
        }
      },
      "outputs": [
        {
          "output_type": "stream",
          "name": "stdout",
          "text": [
            "\n",
            "========================================\n",
            "Evaluating Ensemble\n",
            "========================================\n",
            "Accuracy: 92.90%\n",
            "Precision: 0.9544\n",
            "Recall: 0.9010\n",
            "F1 Score: 0.9270\n"
          ]
        }
      ],
      "execution_count": null
    },
    {
      "cell_type": "code",
      "source": [
        "from sklearn.metrics import classification_report\n",
        "# Classification Report\n",
        "print(\"\\nClassification Report:\")\n",
        "print(classification_report(y_true, final_preds, target_names=['Benign', 'Malignant']))\n",
        "\n",
        "# Confusion Matrix\n",
        "cm = confusion_matrix(y_true, final_preds)\n",
        "plt.figure(figsize=(6,5))\n",
        "sns.heatmap(cm, annot=True, fmt='d', cmap='Blues', cbar=False)\n",
        "plt.xlabel('Predicted Labels')\n",
        "plt.ylabel('True Labels')\n",
        "plt.title(f'Confusion Matrix - Ensemble')\n",
        "plt.show()"
      ],
      "metadata": {
        "trusted": true,
        "execution": {
          "iopub.status.busy": "2025-04-26T11:23:21.474073Z",
          "iopub.execute_input": "2025-04-26T11:23:21.474938Z",
          "iopub.status.idle": "2025-04-26T11:23:21.655419Z",
          "shell.execute_reply.started": "2025-04-26T11:23:21.474901Z",
          "shell.execute_reply": "2025-04-26T11:23:21.654561Z"
        },
        "id": "ZoiKbLXD2Ogp",
        "outputId": "1d6dda33-cc13-4f5b-f5ab-ba4bbb94846a",
        "colab": {
          "base_uri": "https://localhost:8080/",
          "height": 678
        }
      },
      "outputs": [
        {
          "output_type": "stream",
          "name": "stdout",
          "text": [
            "\n",
            "Classification Report:\n",
            "              precision    recall  f1-score   support\n",
            "\n",
            "      Benign       0.91      0.96      0.93      1000\n",
            "   Malignant       0.95      0.90      0.93      1000\n",
            "\n",
            "    accuracy                           0.93      2000\n",
            "   macro avg       0.93      0.93      0.93      2000\n",
            "weighted avg       0.93      0.93      0.93      2000\n",
            "\n"
          ]
        },
        {
          "output_type": "display_data",
          "data": {
            "text/plain": [
              "<Figure size 600x500 with 1 Axes>"
            ],
            "image/png": "[encoded data removed]"
          },
          "metadata": {}
        }
      ],
      "execution_count": null
    }
  ]
}