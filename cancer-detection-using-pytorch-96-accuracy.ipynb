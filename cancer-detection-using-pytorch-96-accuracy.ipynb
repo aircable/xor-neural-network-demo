{
  "metadata": {
    "kernelspec": {
      "display_name": "Python 3",
      "name": "python3"
    },
    "language_info": {
      "name": "python",
      "version": "3.10.12",
      "mimetype": "text/x-python",
      "codemirror_mode": {
        "name": "ipython",
        "version": 3
      },
      "pygments_lexer": "ipython3",
      "nbconvert_exporter": "python",
      "file_extension": ".py"
    },
    "kaggle": {
      "accelerator": "nvidiaTeslaT4",
      "dataSources": [
        {
          "sourceId": 505351,
          "sourceType": "datasetVersion",
          "datasetId": 174469
        }
      ],
      "dockerImageVersionId": 30636,
      "isInternetEnabled": true,
      "language": "python",
      "sourceType": "notebook",
      "isGpuEnabled": true
    },
    "colab": {
      "provenance": [],
      "gpuType": "T4"
    },
    "accelerator": "GPU"
  },
  "nbformat_minor": 0,
  "nbformat": 4,
  "cells": [
    {
      "cell_type": "markdown",
      "source": [
        "[![Open In Colab](https://colab.research.google.com/assets/colab-badge.svg)](https://colab.research.google.com/github/aircable/xor-neural-network-demo/blob/main/cancer-detection-using-pytorch-96-accuracy.ipynb)"
      ],
      "metadata": {
        "id": "TFPKtgzSlSuD"
      }
    },
    {
      "cell_type": "code",
      "source": [
        "# Importing necessary libraries\n",
        "\n",
        "import numpy as np\n",
        "\n",
        "# PyTorch\n",
        "import torch\n",
        "import torch.nn as nn\n",
        "import torch.optim as optim\n",
        "from torchvision import models, datasets, transforms\n",
        "from torch.utils.data import DataLoader, random_split\n",
        "from torch.cuda.amp import autocast, GradScaler\n",
        "from torch.optim.lr_scheduler import ReduceLROnPlateau\n",
        "\n",
        "# Visualization\n",
        "import matplotlib.pyplot as plt\n",
        "import seaborn as sns\n",
        "\n",
        "# Metrics\n",
        "from sklearn.metrics import confusion_matrix\n",
        "\n",
        "# Suppressing warnings\n",
        "from warnings import filterwarnings\n",
        "filterwarnings('ignore')"
      ],
      "metadata": {
        "_uuid": "8f38c0b4-48bc-4686-9a58-71aa20ff4313",
        "_cell_guid": "e1b71b20-d19c-4aa8-9c70-bf2de5130ae7",
        "jupyter": {
          "outputs_hidden": false
        },
        "execution": {
          "iopub.status.busy": "2024-02-20T05:42:59.730750Z",
          "iopub.execute_input": "2024-02-20T05:42:59.731459Z",
          "iopub.status.idle": "2024-02-20T05:42:59.737842Z",
          "shell.execute_reply.started": "2024-02-20T05:42:59.731428Z",
          "shell.execute_reply": "2024-02-20T05:42:59.736894Z"
        },
        "trusted": true,
        "id": "eW-tU_6Qj_KJ"
      },
      "execution_count": 1,
      "outputs": []
    },
    {
      "cell_type": "markdown",
      "source": [
        "### GPU Availability"
      ],
      "metadata": {
        "id": "bc3UsrZFj_KL"
      }
    },
    {
      "cell_type": "code",
      "source": [
        "device = torch.device('cuda' if torch.cuda.is_available() else 'cpu')\n",
        "print(f'Using device : {device}')"
      ],
      "metadata": {
        "execution": {
          "iopub.status.busy": "2024-02-20T05:42:59.739519Z",
          "iopub.execute_input": "2024-02-20T05:42:59.739781Z",
          "iopub.status.idle": "2024-02-20T05:42:59.772908Z",
          "shell.execute_reply.started": "2024-02-20T05:42:59.739759Z",
          "shell.execute_reply": "2024-02-20T05:42:59.772047Z"
        },
        "trusted": true,
        "id": "R0pl_Gt9j_KN",
        "outputId": "4637649f-ca12-4c02-87ba-10502c5a117d",
        "colab": {
          "base_uri": "https://localhost:8080/"
        }
      },
      "execution_count": 2,
      "outputs": [
        {
          "output_type": "stream",
          "name": "stdout",
          "text": [
            "Using device : cuda\n"
          ]
        }
      ]
    },
    {
      "cell_type": "markdown",
      "source": [
        "### Data Augmentation"
      ],
      "metadata": {
        "id": "-EG8nG3uj_KO"
      }
    },
    {
      "cell_type": "code",
      "source": [
        "imgSize = 112\n",
        "\n",
        "# Training transformer\n",
        "transformer = transforms.Compose([\n",
        "    transforms.RandomRotation(degrees = 20),\n",
        "\n",
        "    transforms.RandomHorizontalFlip(p = 0.3),\n",
        "    transforms.RandomVerticalFlip(p = 0.3),\n",
        "\n",
        "    transforms.Resize(size = (imgSize, imgSize), antialias = True),\n",
        "    transforms.CenterCrop(size = (imgSize, imgSize)),\n",
        "\n",
        "    transforms.ToTensor(),\n",
        "    transforms.Normalize(mean = [0.485, 0.456, 0.406], std = [0.229, 0.224, 0.225])\n",
        "])\n",
        "\n",
        "# Validation transformer\n",
        "valTransformer = transforms.Compose([\n",
        "    transforms.Resize(size = (imgSize, imgSize), antialias = True),\n",
        "    transforms.CenterCrop(size = (imgSize, imgSize)),\n",
        "\n",
        "    transforms.ToTensor(),\n",
        "    transforms.Normalize(mean = [0.485, 0.456, 0.406], std = [0.229, 0.224, 0.225])\n",
        "])"
      ],
      "metadata": {
        "execution": {
          "iopub.status.busy": "2024-02-20T05:42:59.773876Z",
          "iopub.execute_input": "2024-02-20T05:42:59.774125Z",
          "iopub.status.idle": "2024-02-20T05:42:59.784821Z",
          "shell.execute_reply.started": "2024-02-20T05:42:59.774103Z",
          "shell.execute_reply": "2024-02-20T05:42:59.783889Z"
        },
        "trusted": true,
        "id": "njMHKFwYj_KO"
      },
      "execution_count": 3,
      "outputs": []
    },
    {
      "cell_type": "markdown",
      "source": [
        "# Loading Dataset"
      ],
      "metadata": {
        "id": "YlMpAKgIj_KO"
      }
    },
    {
      "cell_type": "markdown",
      "metadata": {
        "id": "new-markdown-cell-1"
      },
      "source": [
        "## Step 1: Setting Up the Environment and Importing Data Sources\n",
        "\n",
        "This Jupyter Notebook is designed for a skin cancer detection task and utilizes image datasets sourced from Kaggle, a popular platform for data science competitions and datasets.\n",
        "\n",
        "To begin, we need to import the necessary data. The code cell below uses the `kagglehub.dataset_download` function. This function is part of the Kaggle API tools and serves a crucial purpose:\n",
        "*   **`kagglehub.dataset_download`**: It connects to Kaggle, downloads the specified datasets, and makes them available within the notebook's environment for analysis and model training.\n",
        "\n",
        "The datasets being imported are:\n",
        "1.  **`fanconic/skin-cancer-malignant-vs-benign`**: This dataset likely contains images of skin lesions classified as either malignant (cancerous) or benign (non-cancerous).\n",
        "2.  **`bhaveshmittal/melanoma-cancer-dataset`**: This dataset is focused on melanoma, a specific and dangerous type of skin cancer, providing more images for training our detection model.\n",
        "\n",
        "Running the following code cell will ensure these datasets are ready for use in the subsequent steps of the notebook."
      ]
    },
    {
      "source": [
        "import kagglehub\n",
        "import time\n",
        "\n",
        "## Step 1: Setting Up the Environment and Importing Data Sources\n",
        "\n",
        "# NOTE: THIS NOTEBOOK ENVIRONMENT DIFFERS FROM KAGGLE'S PYTHON\n",
        "# ENVIRONMENT SO THERE MAY BE MISSING LIBRARIES USED BY YOUR\n",
        "# NOTEBOOK.\n",
        "\n",
        "# Download the first dataset\n",
        "try:\n",
        "    fanconic_skin_cancer_malignant_vs_benign_path = kagglehub.dataset_download('fanconic/skin-cancer-malignant-vs-benign')\n",
        "    print('First dataset downloaded successfully.')\n",
        "except Exception as e:\n",
        "    print(f'Error downloading the first dataset: {e}')\n",
        "\n",
        "# Attempt to download the second dataset with retries\n",
        "max_retries = 3\n",
        "for i in range(max_retries):\n",
        "    try:\n",
        "        bhaveshmittal_melanoma_cancer_dataset_path = kagglehub.dataset_download('bhaveshmittal/melanoma-cancer-dataset')\n",
        "        print('Second dataset downloaded successfully.')\n",
        "        break # Exit the loop if download is successful\n",
        "    except Exception as e:\n",
        "        print(f'Attempt {i+1} failed to download the second dataset: {e}')\n",
        "        if i < max_retries - 1:\n",
        "            print('Retrying in 5 seconds...')\n",
        "            time.sleep(5) # Wait before retrying\n",
        "        else:\n",
        "            print('Max retries reached for the second dataset.')\n",
        "\n",
        "print('Data source import complete (attempted downloads).')"
      ],
      "metadata": {
        "id": "vLZIY7y22OgS",
        "outputId": "69bd2013-0393-4560-9a0b-754f94272e6a",
        "colab": {
          "base_uri": "https://localhost:8080/"
        }
      },
      "cell_type": "code",
      "outputs": [
        {
          "output_type": "stream",
          "name": "stdout",
          "text": [
            "First dataset downloaded successfully.\n",
            "Second dataset downloaded successfully.\n",
            "Data source import complete (attempted downloads).\n"
          ]
        }
      ],
      "execution_count": 4
    },
    {
      "cell_type": "code",
      "source": [
        "path = '/kaggle/input/melanoma-cancer-dataset/train'\n",
        "valPath = '/kaggle/input/melanoma-cancer-dataset/test'\n",
        "\n",
        "trainData = datasets.ImageFolder(root = path, transform = transformer)\n",
        "valData = datasets.ImageFolder(root = valPath, transform = valTransformer)"
      ],
      "metadata": {
        "execution": {
          "iopub.status.busy": "2024-02-20T05:42:59.786031Z",
          "iopub.execute_input": "2024-02-20T05:42:59.786340Z",
          "iopub.status.idle": "2024-02-20T05:43:02.837466Z",
          "shell.execute_reply.started": "2024-02-20T05:42:59.786317Z",
          "shell.execute_reply": "2024-02-20T05:43:02.836512Z"
        },
        "trusted": true,
        "id": "CXlizm6vj_KP"
      },
      "execution_count": 5,
      "outputs": []
    },
    {
      "cell_type": "code",
      "source": [
        "# Data loaders\n",
        "batchSize = 128\n",
        "\n",
        "trainLoader = DataLoader(trainData, batch_size = batchSize, shuffle = True, num_workers = 4)\n",
        "valLoader = DataLoader(valData, batch_size = batchSize, shuffle = False, num_workers = 4)"
      ],
      "metadata": {
        "execution": {
          "iopub.status.busy": "2024-02-20T05:43:02.839831Z",
          "iopub.execute_input": "2024-02-20T05:43:02.840123Z",
          "iopub.status.idle": "2024-02-20T05:43:02.846423Z",
          "shell.execute_reply.started": "2024-02-20T05:43:02.840097Z",
          "shell.execute_reply": "2024-02-20T05:43:02.845479Z"
        },
        "trusted": true,
        "id": "GSRLE_pQj_KP"
      },
      "execution_count": 6,
      "outputs": []
    },
    {
      "cell_type": "markdown",
      "source": [
        "# Defining Model"
      ],
      "metadata": {
        "id": "alZURkhgj_KQ"
      }
    },
    {
      "cell_type": "code",
      "source": [
        "# Using a pre-trained EfficientNetV2L model\n",
        "model = models.efficientnet_v2_s(weights = 'DEFAULT')\n",
        "\n",
        "# Modifying final classifier layer\n",
        "model.classifier[1] = nn.Linear(model.classifier[1].in_features, 1)"
      ],
      "metadata": {
        "execution": {
          "iopub.status.busy": "2024-02-20T05:43:02.847631Z",
          "iopub.execute_input": "2024-02-20T05:43:02.847888Z",
          "iopub.status.idle": "2024-02-20T05:43:05.355533Z",
          "shell.execute_reply.started": "2024-02-20T05:43:02.847865Z",
          "shell.execute_reply": "2024-02-20T05:43:05.354754Z"
        },
        "trusted": true,
        "id": "14TRO7JYj_KQ"
      },
      "execution_count": 7,
      "outputs": []
    },
    {
      "cell_type": "markdown",
      "source": [
        "### Data Parallelism"
      ],
      "metadata": {
        "id": "eoBG6WvJj_KQ"
      }
    },
    {
      "cell_type": "code",
      "source": [
        "# Remove this line if you are only using one GPU\n",
        "# model = nn.DataParallel(model).to(device)\n",
        "# Instead, just move the model to the device\n",
        "model = model.to(device)"
      ],
      "metadata": {
        "execution": {
          "iopub.status.busy": "2024-02-20T05:43:05.356695Z",
          "iopub.execute_input": "2024-02-20T05:43:05.356990Z",
          "iopub.status.idle": "2024-02-20T05:43:05.530284Z",
          "shell.execute_reply.started": "2024-02-20T05:43:05.356965Z",
          "shell.execute_reply": "2024-02-20T05:43:05.529513Z"
        },
        "trusted": true,
        "id": "8sUGaWISj_KQ"
      },
      "execution_count": 8,
      "outputs": []
    },
    {
      "cell_type": "code",
      "source": [
        "# Defining the loss, optimizer, and annealer\n",
        "criterion = nn.BCEWithLogitsLoss()\n",
        "optimizer = optim.Adam(model.parameters(), lr = 0.001)\n",
        "scheduler = ReduceLROnPlateau(optimizer, threshold = 0.01, factor = 0.1, patience = 3, min_lr = 1e-5, verbose = True)"
      ],
      "metadata": {
        "execution": {
          "iopub.status.busy": "2024-02-20T05:43:05.531361Z",
          "iopub.execute_input": "2024-02-20T05:43:05.531656Z",
          "iopub.status.idle": "2024-02-20T05:43:05.547075Z",
          "shell.execute_reply.started": "2024-02-20T05:43:05.531632Z",
          "shell.execute_reply": "2024-02-20T05:43:05.546304Z"
        },
        "trusted": true,
        "id": "0gPe7hm7j_KR"
      },
      "execution_count": 9,
      "outputs": []
    },
    {
      "cell_type": "markdown",
      "source": [
        "### Early Stopping"
      ],
      "metadata": {
        "id": "jB6mFOHRj_KR"
      }
    },
    {
      "cell_type": "code",
      "source": [
        "patience = 5\n",
        "minDelta = 0.01\n",
        "currentPatience = 0\n",
        "bestLoss = float('inf')"
      ],
      "metadata": {
        "execution": {
          "iopub.status.busy": "2024-02-20T05:43:05.549043Z",
          "iopub.execute_input": "2024-02-20T05:43:05.549369Z",
          "iopub.status.idle": "2024-02-20T05:43:05.554340Z",
          "shell.execute_reply.started": "2024-02-20T05:43:05.549333Z",
          "shell.execute_reply": "2024-02-20T05:43:05.553387Z"
        },
        "trusted": true,
        "id": "2TtId3JUj_KR"
      },
      "execution_count": 10,
      "outputs": []
    },
    {
      "cell_type": "markdown",
      "source": [
        "# Training Model"
      ],
      "metadata": {
        "id": "wHBC_6Bsj_KR"
      }
    },
    {
      "cell_type": "code",
      "source": [
        "# Gradient scaler for mixed-precision training\n",
        "scaler = GradScaler()\n",
        "\n",
        "# Lists to store training and validation metrics\n",
        "trainLosses = []\n",
        "valLosses = []\n",
        "valAccs = []\n",
        "\n",
        "# Training loop\n",
        "epochs = 30\n",
        "\n",
        "for epoch in range(epochs):\n",
        "    # Training phase\n",
        "    model.train()\n",
        "    runningLoss = 0.0\n",
        "\n",
        "    for inputs, labels in trainLoader:\n",
        "        inputs, labels = inputs.to(device), labels.to(device)\n",
        "        labels = labels.unsqueeze(1).float()\n",
        "\n",
        "        optimizer.zero_grad()\n",
        "\n",
        "        with autocast():\n",
        "            outputs = model(inputs)\n",
        "            loss = criterion(outputs, labels)\n",
        "\n",
        "        scaler.scale(loss).backward()\n",
        "        scaler.step(optimizer)\n",
        "        scaler.update()\n",
        "\n",
        "        runningLoss += loss.item()\n",
        "\n",
        "    trainLoss = runningLoss / len(trainLoader)\n",
        "    print(f'Epoch {epoch + 1}/{epochs} - Training Loss : {trainLoss:.2f}')\n",
        "    trainLosses.append(trainLoss)\n",
        "\n",
        "    # Validation phase\n",
        "    model.eval()\n",
        "    with torch.no_grad():\n",
        "        valLoss = 0.0\n",
        "        correct = total = 0\n",
        "\n",
        "        for inputs, labels in valLoader:\n",
        "            inputs, labels = inputs.to(device), labels.to(device)\n",
        "            labels = labels.unsqueeze(1).float()\n",
        "\n",
        "            outputs = model(inputs)\n",
        "            loss = criterion(outputs, labels)\n",
        "            valLoss += loss.item()\n",
        "\n",
        "            predicted = (torch.sigmoid(outputs) > 0.5).float()\n",
        "            total += labels.size(0)\n",
        "            correct += (predicted == labels).sum().item()\n",
        "\n",
        "        avgLoss = valLoss / len(valLoader)\n",
        "        accuracy = correct / total * 100\n",
        "\n",
        "        print(f'Validation Loss : {avgLoss:.2f} Validation Accuracy : {accuracy:.2f}%\\n')\n",
        "        valLosses.append(avgLoss)\n",
        "        valAccs.append(accuracy)\n",
        "\n",
        "        # Early stopping\n",
        "        if avgLoss < bestLoss - minDelta:\n",
        "            bestLoss = avgLoss\n",
        "            currentPatience = 0\n",
        "        else:\n",
        "            currentPatience += 1\n",
        "            if currentPatience >= patience:\n",
        "                print('Early stopping triggered.')\n",
        "                break\n",
        "\n",
        "        scheduler.step(avgLoss)"
      ],
      "metadata": {
        "execution": {
          "iopub.status.busy": "2024-02-20T05:43:05.555475Z",
          "iopub.execute_input": "2024-02-20T05:43:05.556036Z",
          "iopub.status.idle": "2024-02-20T05:57:26.122251Z",
          "shell.execute_reply.started": "2024-02-20T05:43:05.556011Z",
          "shell.execute_reply": "2024-02-20T05:57:26.120986Z"
        },
        "trusted": true,
        "id": "_T5PZPaEj_KR",
        "outputId": "f6c70b24-442c-4522-e904-106267a413c4",
        "colab": {
          "base_uri": "https://localhost:8080/"
        }
      },
      "execution_count": 11,
      "outputs": [
        {
          "output_type": "stream",
          "name": "stdout",
          "text": [
            "Epoch 1/30 - Training Loss : 0.29\n",
            "Validation Loss : 0.29 Validation Accuracy : 85.55%\n",
            "\n",
            "Epoch 2/30 - Training Loss : 0.22\n",
            "Validation Loss : 0.31 Validation Accuracy : 87.50%\n",
            "\n",
            "Epoch 3/30 - Training Loss : 0.21\n",
            "Validation Loss : 0.23 Validation Accuracy : 90.35%\n",
            "\n",
            "Epoch 4/30 - Training Loss : 0.19\n",
            "Validation Loss : 0.20 Validation Accuracy : 91.85%\n",
            "\n",
            "Epoch 5/30 - Training Loss : 0.18\n",
            "Validation Loss : 0.17 Validation Accuracy : 93.15%\n",
            "\n",
            "Epoch 6/30 - Training Loss : 0.17\n",
            "Validation Loss : 0.16 Validation Accuracy : 93.85%\n",
            "\n",
            "Epoch 7/30 - Training Loss : 0.16\n",
            "Validation Loss : 0.22 Validation Accuracy : 90.75%\n",
            "\n",
            "Epoch 8/30 - Training Loss : 0.15\n",
            "Validation Loss : 0.24 Validation Accuracy : 89.85%\n",
            "\n",
            "Epoch 9/30 - Training Loss : 0.14\n",
            "Validation Loss : 0.14 Validation Accuracy : 95.10%\n",
            "\n",
            "Epoch 10/30 - Training Loss : 0.13\n",
            "Validation Loss : 0.20 Validation Accuracy : 90.85%\n",
            "\n",
            "Epoch 11/30 - Training Loss : 0.12\n",
            "Validation Loss : 0.12 Validation Accuracy : 95.70%\n",
            "\n",
            "Epoch 12/30 - Training Loss : 0.12\n",
            "Validation Loss : 0.17 Validation Accuracy : 93.30%\n",
            "\n",
            "Epoch 13/30 - Training Loss : 0.11\n",
            "Validation Loss : 0.17 Validation Accuracy : 93.55%\n",
            "\n",
            "Epoch 14/30 - Training Loss : 0.11\n",
            "Validation Loss : 0.13 Validation Accuracy : 95.30%\n",
            "\n",
            "Epoch 15/30 - Training Loss : 0.11\n",
            "Validation Loss : 0.15 Validation Accuracy : 94.40%\n",
            "\n",
            "Epoch 16/30 - Training Loss : 0.07\n",
            "Validation Loss : 0.12 Validation Accuracy : 95.40%\n",
            "\n",
            "Early stopping triggered.\n"
          ]
        }
      ]
    },
    {
      "cell_type": "code",
      "source": [
        "# Plotting training and validation metrics\n",
        "plt.figure(figsize = (10, 5))\n",
        "\n",
        "plt.subplot(1, 2, 1)\n",
        "plt.plot(trainLosses, label = 'Training Loss')\n",
        "plt.plot(valLosses, label = 'Validation Loss')\n",
        "plt.xlabel('Epoch')\n",
        "plt.ylabel('Loss')\n",
        "plt.legend()\n",
        "\n",
        "plt.subplot(1, 2, 2)\n",
        "plt.plot(valAccs, label = 'Validation Accuracy')\n",
        "plt.xlabel('Epoch')\n",
        "plt.ylabel('Accuracy (%)')\n",
        "plt.legend()\n",
        "\n",
        "plt.show()"
      ],
      "metadata": {
        "execution": {
          "iopub.status.busy": "2024-02-20T06:01:44.120399Z",
          "iopub.execute_input": "2024-02-20T06:01:44.121254Z",
          "iopub.status.idle": "2024-02-20T06:01:44.562673Z",
          "shell.execute_reply.started": "2024-02-20T06:01:44.121221Z",
          "shell.execute_reply": "2024-02-20T06:01:44.561782Z"
        },
        "trusted": true,
        "id": "rRNTSmL6j_KS",
        "outputId": "d68dd876-35e6-4fec-be43-ef76386938ab",
        "colab": {
          "base_uri": "https://localhost:8080/",
          "height": 465
        }
      },
      "execution_count": 12,
      "outputs": [
        {
          "output_type": "display_data",
          "data": {
            "text/plain": [
              "<Figure size 1000x500 with 2 Axes>"
            ],
            "image/png": "[encoded data removed]"
          },
          "metadata": {}
        }
      ]
    },
    {
      "cell_type": "code",
      "source": [
        "# Plotting confusion matrix for validation data\n",
        "model.eval()\n",
        "allLabels = []\n",
        "allPreds = []\n",
        "\n",
        "with torch.no_grad():\n",
        "    for inputs, labels in valLoader:\n",
        "        inputs, labels = inputs.to(device), labels.to(device)\n",
        "        labels = labels.unsqueeze(1).float()\n",
        "\n",
        "        outputs = model(inputs)\n",
        "        predictions = (torch.sigmoid(outputs) > 0.5).float()\n",
        "\n",
        "        allLabels.extend(labels.cpu().numpy())\n",
        "        allPreds.extend(predictions.cpu().numpy())\n",
        "\n",
        "allLabels = np.array(allLabels)\n",
        "allPreds = np.array(allPreds)\n",
        "\n",
        "matrix = confusion_matrix(allLabels, allPreds)\n",
        "\n",
        "sns.heatmap(matrix, annot = True, fmt = 'd', cmap = 'Greens', xticklabels = valData.classes, yticklabels = valData.classes, cbar = False)\n",
        "plt.title('Confusion Matrix - Validation Set', fontsize = 16)\n",
        "plt.xlabel('Predicted Label', fontsize = 14)\n",
        "plt.ylabel('True Label', fontsize = 14)\n",
        "plt.show()"
      ],
      "metadata": {
        "execution": {
          "iopub.status.busy": "2024-02-20T05:57:26.711058Z",
          "iopub.execute_input": "2024-02-20T05:57:26.711358Z",
          "iopub.status.idle": "2024-02-20T05:57:32.879949Z",
          "shell.execute_reply.started": "2024-02-20T05:57:26.711333Z",
          "shell.execute_reply": "2024-02-20T05:57:32.878667Z"
        },
        "trusted": true,
        "id": "E-gIhGO_j_KS",
        "outputId": "18817de2-f819-46dd-9582-aab72a7099a1",
        "colab": {
          "base_uri": "https://localhost:8080/",
          "height": 479
        }
      },
      "execution_count": 13,
      "outputs": [
        {
          "output_type": "display_data",
          "data": {
            "text/plain": [
              "<Figure size 640x480 with 1 Axes>"
            ],
            "image/png": "[encoded data removed]"
          },
          "metadata": {}
        }
      ]
    },
    {
      "cell_type": "code",
      "source": [
        "# Evaluate Model Size\n",
        "\n",
        "# Calculate the total number of parameters\n",
        "total_params = sum(p.numel() for p in model.parameters())\n",
        "print(f'Total number of parameters: {total_params}')\n",
        "\n",
        "# Estimate model size in bytes (assuming float32 parameters)\n",
        "# Each parameter (float32) takes 4 bytes\n",
        "model_size_bytes = total_params * 4\n",
        "print(f'Estimated model size (bytes, float32): {model_size_bytes}')\n",
        "\n",
        "# Convert to megabytes for easier understanding\n",
        "model_size_mb = model_size_bytes / (1024 * 1024)\n",
        "print(f'Estimated model size (MB, float32): {model_size_mb:.2f}')\n",
        "\n",
        "# Note: This is an estimate. The actual size might vary slightly due to model\n",
        "# architecture details and the specific PyTorch version."
      ],
      "metadata": {
        "id": "PGP17lYA3NIn",
        "outputId": "2fb66486-af80-4096-d1cd-ae54a36ebb21",
        "colab": {
          "base_uri": "https://localhost:8080/"
        }
      },
      "execution_count": 14,
      "outputs": [
        {
          "output_type": "stream",
          "name": "stdout",
          "text": [
            "Total number of parameters: 20178769\n",
            "Estimated model size (bytes, float32): 80715076\n",
            "Estimated model size (MB, float32): 76.98\n"
          ]
        }
      ]
    },
    {
      "cell_type": "markdown",
      "source": [
        "### Explanation and Implications for Embedded Systems:\n",
        "\n",
        "This code calculates two key metrics related to model size:\n",
        "\n",
        "1. Total Number of Parameters: This is the count of all the trainable weights and biases in your neural network.\n",
        "\n",
        "  - Embedded Systems Relevance: A higher number of parameters generally means a larger model. Embedded systems often have limited memory (RAM and flash memory). A large model might not fit into the available memory, preventing it from being deployed on the device.\n",
        "\n",
        "2. Estimated Model Size (Bytes/MB, float32): This is an estimate of the memory the model's parameters will occupy when stored as single-precision floating-point numbers (float32).\n",
        "\n",
        "  - Embedded Systems Relevance: This gives you a concrete idea of how much storage space (flash memory) the trained model will require. Embedded systems have finite storage, and large models can quickly exceed this limit. This also impacts the amount of RAM needed to load and run the model.\n",
        "\n",
        "### Why these metrics are important for embedded systems:\n",
        "\n",
        "- **Memory Constraints:** Embedded systems are typically resource-constrained, with limited RAM and flash memory compared to desktop or server environments. Large models can be challenging to deploy due to these limitations.\n",
        "- **Processing Power:** Larger models require more computational resources to perform inferences. Embedded processors are often less powerful than those found in other computing platforms. Running a large model on a low-power embedded processor can result in slow inference times, which might not be acceptable for real-time applications.\n",
        "- **Power Consumption:** Running computationally intensive models on embedded systems can significantly increase power consumption, which is a critical concern for battery-powered devices.\n",
        "Quantization: The concept you mentioned, quantization, is a key technique for deploying models on embedded systems. Quantization reduces the precision of the model's weights and activations (e.g., from float32 to int8 or int4). This has several benefits for embedded systems:\n",
        "  - **Reduced Model Size:** Quantized models are significantly smaller, requiring less storage space.\n",
        "  - **Reduced Memory Bandwidth:** Less data needs to be moved between memory and the processor.\n",
        "  - **Faster Inference:** Many embedded processors have dedicated hardware accelerators for integer arithmetic, which can speed up inference with quantized models.\n",
        "  - **Lower Power Consumption:** Integer operations are generally more power-efficient than floating-point operations.\n",
        "### In summary:\n",
        "\n",
        "The number of parameters and the estimated model size provide a baseline understanding of your model's memory footprint. For embedded systems, these metrics are crucial for determining if the model can be deployed on the target hardware. Techniques like quantization become essential to reduce model size and computational requirements to fit within the constraints of embedded devices.\n",
        "\n",
        "After you run the code, you'll see the total parameters and the estimated size in MB. This will give you an idea of how large the EfficientNetV2S model is in its default float32 form and how much you might need to reduce its size through quantization for embedded deployment."
      ],
      "metadata": {
        "id": "QCYus_P63WQA"
      }
    },
    {
      "cell_type": "markdown",
      "source": [
        "# Export model to ONNX format for embedded systems"
      ],
      "metadata": {
        "id": "mKdCEvGb9Wv8"
      }
    },
    {
      "source": [
        "!pip install onnx==1.14.0 # Or a recent compatible version"
      ],
      "cell_type": "code",
      "metadata": {
        "id": "ONmQfGNXB6zi",
        "outputId": "68da8bd2-224a-4f6e-ff5b-629689909591",
        "colab": {
          "base_uri": "https://localhost:8080/"
        }
      },
      "execution_count": 16,
      "outputs": [
        {
          "output_type": "stream",
          "name": "stdout",
          "text": [
            "Collecting onnx==1.14.0\n",
            "  Downloading onnx-1.14.0-cp311-cp311-manylinux_2_17_x86_64.manylinux2014_x86_64.whl.metadata (15 kB)\n",
            "Requirement already satisfied: numpy in /usr/local/lib/python3.11/dist-packages (from onnx==1.14.0) (2.0.2)\n",
            "Requirement already satisfied: protobuf>=3.20.2 in /usr/local/lib/python3.11/dist-packages (from onnx==1.14.0) (5.29.4)\n",
            "Requirement already satisfied: typing-extensions>=3.6.2.1 in /usr/local/lib/python3.11/dist-packages (from onnx==1.14.0) (4.13.2)\n",
            "Downloading onnx-1.14.0-cp311-cp311-manylinux_2_17_x86_64.manylinux2014_x86_64.whl (14.6 MB)\n",
            "\u001b[2K   \u001b[90m━━━━━━━━━━━━━━━━━━━━━━━━━━━━━━━━━━━━━━━━\u001b[0m \u001b[32m14.6/14.6 MB\u001b[0m \u001b[31m40.5 MB/s\u001b[0m eta \u001b[36m0:00:00\u001b[0m\n",
            "\u001b[?25hInstalling collected packages: onnx\n",
            "Successfully installed onnx-1.14.0\n"
          ]
        }
      ]
    },
    {
      "source": [
        "import torch\n",
        "import torch.onnx\n",
        "import os\n",
        "\n",
        "# Mount Google Drive to access persistent storage\n",
        "from google.colab import drive\n",
        "drive.mount('/content/drive')\n",
        "\n",
        "# Directory where models will be stored (in your Google Drive)\n",
        "MODEL_DIR = '/content/drive/MyDrive/Notebooks/models'\n",
        "os.makedirs(MODEL_DIR, exist_ok=True)\n",
        "\n",
        "model_path = os.path.join(MODEL_DIR, \"efficientnet_v2_s_float32.onnx\")\n",
        "\n",
        "# Assuming 'model' is your trained float32 PyTorch model\n",
        "# Assuming 'imgSize' is defined and is the input image size\n",
        "\n",
        "# Set the model to evaluation mode\n",
        "model.eval()\n",
        "\n",
        "# Create a dummy input tensor with the correct shape (batch_size, channels, height, width)\n",
        "# Use a batch size of 1 or the expected batch size for inference\n",
        "dummy_input = torch.randn(1, 3, imgSize, imgSize).to(device) # Assuming 'device' is your device ('cuda' or 'cpu')\n",
        "\n",
        "# Export the model to ONNX\n",
        "# Specify the opset_version. A relatively recent version is usually good.\n",
        "# input_names and output_names are optional but good practice for clarity\n",
        "torch.onnx.export(model,                 # The trained model\n",
        "                  dummy_input,           # A dummy input to trace the model\n",
        "                  model_path, # Output file name\n",
        "                  export_params=True,    # Export weights and biases\n",
        "                  opset_version=13,      # ONNX opset version (choose one supported by your TFLite converter)\n",
        "                  do_constant_folding=True, # Perform constant folding for optimization\n",
        "                  input_names = ['input'], # Input layer name\n",
        "                  output_names = ['output']) # Output layer name\n",
        "\n",
        "print(\"Model exported to efficientnet_v2_s_float32.onnx\")"
      ],
      "cell_type": "code",
      "metadata": {
        "id": "RC-TUcjx9gBQ",
        "outputId": "f4ffad21-c57a-437b-92eb-e09e4734004c",
        "colab": {
          "base_uri": "https://localhost:8080/"
        }
      },
      "execution_count": 18,
      "outputs": [
        {
          "output_type": "stream",
          "name": "stdout",
          "text": [
            "Mounted at /content/drive\n",
            "Model exported to efficientnet_v2_s_float32.onnx\n"
          ]
        }
      ]
    }
  ]
}